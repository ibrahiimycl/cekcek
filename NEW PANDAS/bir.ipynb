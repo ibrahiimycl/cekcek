{
 "cells": [
  {
   "cell_type": "code",
   "execution_count": 6,
   "id": "2b57a56d-07ed-4cfe-b5bd-2a97e2a52a97",
   "metadata": {},
   "outputs": [],
   "source": [
    "import pandas as pd"
   ]
  },
  {
   "cell_type": "code",
   "execution_count": 9,
   "id": "98e838a4-9579-4261-a6d9-dee6d301b345",
   "metadata": {},
   "outputs": [
    {
     "data": {
      "text/plain": [
       "0      1\n",
       "1    ali\n",
       "2    3.5\n",
       "3    hey\n",
       "dtype: object"
      ]
     },
     "execution_count": 9,
     "metadata": {},
     "output_type": "execute_result"
    }
   ],
   "source": [
    "obje = pd.Series([1,\"ali\",3.5,\"hey\"])\n",
    "obje"
   ]
  },
  {
   "cell_type": "code",
   "execution_count": 10,
   "id": "564c725a-53c8-4e1f-87cd-6990bc031823",
   "metadata": {},
   "outputs": [
    {
     "data": {
      "text/plain": [
       "3.5"
      ]
     },
     "execution_count": 10,
     "metadata": {},
     "output_type": "execute_result"
    }
   ],
   "source": [
    "obje[2]"
   ]
  },
  {
   "cell_type": "code",
   "execution_count": 12,
   "id": "51bbbbd1-ee7e-46cf-b00a-3b40b4e7af2f",
   "metadata": {},
   "outputs": [
    {
     "data": {
      "text/plain": [
       "array([1, 'ali', 3.5, 'hey'], dtype=object)"
      ]
     },
     "execution_count": 12,
     "metadata": {},
     "output_type": "execute_result"
    }
   ],
   "source": [
    "obje.values # dizi olarak aldı"
   ]
  },
  {
   "cell_type": "code",
   "execution_count": 14,
   "id": "09d0467a-ac4f-4041-8e5d-c66e6a4bdb5e",
   "metadata": {},
   "outputs": [
    {
     "data": {
      "text/plain": [
       "a      1\n",
       "b    ali\n",
       "c    3.5\n",
       "d    hey\n",
       "dtype: object"
      ]
     },
     "execution_count": 14,
     "metadata": {},
     "output_type": "execute_result"
    }
   ],
   "source": [
    "obje = pd.Series([1,\"ali\",3.5,\"hey\"], index=[\"a\",\"b\",\"c\",\"d\"]) # indexlerini değiştirdik\n",
    "obje"
   ]
  },
  {
   "cell_type": "code",
   "execution_count": 16,
   "id": "c910312d-dd24-4498-89a5-491164e98508",
   "metadata": {},
   "outputs": [
    {
     "data": {
      "text/plain": [
       "'ali'"
      ]
     },
     "execution_count": 16,
     "metadata": {},
     "output_type": "execute_result"
    }
   ],
   "source": [
    "obje[\"b\"]"
   ]
  },
  {
   "cell_type": "code",
   "execution_count": 17,
   "id": "85cd6593-1e29-4dd2-a14b-b56cfb5e394a",
   "metadata": {},
   "outputs": [
    {
     "data": {
      "text/plain": [
       "ali     90\n",
       "can     80\n",
       "efe     75\n",
       "buse    88\n",
       "dtype: int64"
      ]
     },
     "execution_count": 17,
     "metadata": {},
     "output_type": "execute_result"
    }
   ],
   "source": [
    "puan = {\"ali\":90,\"can\":80,\"efe\":75,\"buse\":88}\n",
    "nt =  pd.Series(puan) # puanları series şekilde nt ye atadı\n",
    "nt"
   ]
  },
  {
   "cell_type": "code",
   "execution_count": 18,
   "id": "82ff0e85-fa28-4264-955a-2da5e25a6e23",
   "metadata": {},
   "outputs": [
    {
     "data": {
      "text/plain": [
       "80"
      ]
     },
     "execution_count": 18,
     "metadata": {},
     "output_type": "execute_result"
    }
   ],
   "source": [
    "nt[\"can\"] # can kaç aldı"
   ]
  },
  {
   "cell_type": "code",
   "execution_count": 19,
   "id": "d14d8d94-d09a-4f9a-aa29-15fd9db7f148",
   "metadata": {},
   "outputs": [
    {
     "data": {
      "text/plain": [
       "ali     90\n",
       "can     80\n",
       "buse    88\n",
       "dtype: int64"
      ]
     },
     "execution_count": 19,
     "metadata": {},
     "output_type": "execute_result"
    }
   ],
   "source": [
    "nt[nt>75] # notları 75den büyük olanları yazdır"
   ]
  },
  {
   "cell_type": "code",
   "execution_count": 20,
   "id": "e5a93324-340e-4a08-9354-7071d4dd68fd",
   "metadata": {},
   "outputs": [
    {
     "data": {
      "text/plain": [
       "ali     False\n",
       "can      True\n",
       "efe      True\n",
       "buse    False\n",
       "dtype: bool"
      ]
     },
     "execution_count": 20,
     "metadata": {},
     "output_type": "execute_result"
    }
   ],
   "source": [
    "nt<85 # sağlayanlar true yazar"
   ]
  },
  {
   "cell_type": "code",
   "execution_count": 21,
   "id": "99486e62-6a76-488f-b410-de2029054c0c",
   "metadata": {},
   "outputs": [],
   "source": [
    "nt[\"can\"]=10 # canın notu değişti"
   ]
  },
  {
   "cell_type": "code",
   "execution_count": 22,
   "id": "636c21a3-fa32-4a18-8f98-b9d507abe725",
   "metadata": {},
   "outputs": [
    {
     "data": {
      "text/plain": [
       "ali     90\n",
       "can     10\n",
       "efe     75\n",
       "buse    88\n",
       "dtype: int64"
      ]
     },
     "execution_count": 22,
     "metadata": {},
     "output_type": "execute_result"
    }
   ],
   "source": [
    "nt"
   ]
  },
  {
   "cell_type": "code",
   "execution_count": 23,
   "id": "bbb20a97-3a9f-44c5-abf6-17f9c9e8cbb1",
   "metadata": {},
   "outputs": [],
   "source": [
    "nt[nt>70]=100"
   ]
  },
  {
   "cell_type": "code",
   "execution_count": 24,
   "id": "bd1da6d8-8cc2-42b9-bef4-66a89dc6322b",
   "metadata": {},
   "outputs": [
    {
     "data": {
      "text/plain": [
       "ali     100\n",
       "can      10\n",
       "efe     100\n",
       "buse    100\n",
       "dtype: int64"
      ]
     },
     "execution_count": 24,
     "metadata": {},
     "output_type": "execute_result"
    }
   ],
   "source": [
    "nt"
   ]
  },
  {
   "cell_type": "code",
   "execution_count": 25,
   "id": "bb73e67f-afae-4cab-afd5-197352496b2e",
   "metadata": {},
   "outputs": [
    {
     "data": {
      "text/plain": [
       "True"
      ]
     },
     "execution_count": 25,
     "metadata": {},
     "output_type": "execute_result"
    }
   ],
   "source": [
    "\"can\" in nt"
   ]
  },
  {
   "cell_type": "code",
   "execution_count": 26,
   "id": "3e1b493d-727b-4e46-b7cf-e8db765960bb",
   "metadata": {},
   "outputs": [
    {
     "data": {
      "text/plain": [
       "False"
      ]
     },
     "execution_count": 26,
     "metadata": {},
     "output_type": "execute_result"
    }
   ],
   "source": [
    "\"kırmızı\" in nt"
   ]
  },
  {
   "cell_type": "code",
   "execution_count": 28,
   "id": "f112536a-c573-4f97-a588-16740ddac774",
   "metadata": {},
   "outputs": [
    {
     "data": {
      "text/plain": [
       "ali     20.0\n",
       "can      2.0\n",
       "efe     20.0\n",
       "buse    20.0\n",
       "dtype: float64"
      ]
     },
     "execution_count": 28,
     "metadata": {},
     "output_type": "execute_result"
    }
   ],
   "source": [
    "nt / 5"
   ]
  },
  {
   "cell_type": "code",
   "execution_count": 29,
   "id": "9cd86261-2af3-4507-876f-6c077a872b45",
   "metadata": {},
   "outputs": [
    {
     "data": {
      "text/plain": [
       "ali     False\n",
       "can     False\n",
       "efe     False\n",
       "buse    False\n",
       "dtype: bool"
      ]
     },
     "execution_count": 29,
     "metadata": {},
     "output_type": "execute_result"
    }
   ],
   "source": [
    "nt.isnull() # tüm veriler false oldu eksik veri yok demek"
   ]
  },
  {
   "cell_type": "code",
   "execution_count": null,
   "id": "a8936b81-cf99-433c-b9f7-fcceb25fd684",
   "metadata": {},
   "outputs": [],
   "source": []
  }
 ],
 "metadata": {
  "kernelspec": {
   "display_name": "Python 3 (ipykernel)",
   "language": "python",
   "name": "python3"
  },
  "language_info": {
   "codemirror_mode": {
    "name": "ipython",
    "version": 3
   },
   "file_extension": ".py",
   "mimetype": "text/x-python",
   "name": "python",
   "nbconvert_exporter": "python",
   "pygments_lexer": "ipython3",
   "version": "3.11.7"
  }
 },
 "nbformat": 4,
 "nbformat_minor": 5
}
