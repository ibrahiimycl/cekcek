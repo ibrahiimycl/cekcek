{
 "cells": [
  {
   "cell_type": "code",
   "execution_count": 1,
   "id": "c93bf5bc-af61-46a9-ba70-dcceaeea00ae",
   "metadata": {},
   "outputs": [
    {
     "data": {
      "text/plain": [
       "'SELAM'"
      ]
     },
     "execution_count": 1,
     "metadata": {},
     "output_type": "execute_result"
    }
   ],
   "source": [
    "\"selam\".upper()"
   ]
  },
  {
   "cell_type": "code",
   "execution_count": 3,
   "id": "bab19707-dc68-47b9-8296-07867dab4496",
   "metadata": {},
   "outputs": [],
   "source": [
    "import pandas as pd ; import numpy as np"
   ]
  },
  {
   "cell_type": "code",
   "execution_count": 4,
   "id": "f2c995ab-8999-4059-9929-f4f4afcbcac0",
   "metadata": {},
   "outputs": [],
   "source": [
    "veri=[\"ali\",\"Berk\",\"DENiz\",np.nan,\"zEYNEP\"]"
   ]
  },
  {
   "cell_type": "code",
   "execution_count": 5,
   "id": "3adeb17c-307a-4323-8d5c-09f98af8aa82",
   "metadata": {},
   "outputs": [],
   "source": [
    "isim=pd.Series(veri)"
   ]
  },
  {
   "cell_type": "code",
   "execution_count": 6,
   "id": "9435543c-9f67-4729-86f1-d4dcb6949dca",
   "metadata": {},
   "outputs": [
    {
     "data": {
      "text/plain": [
       "0       Ali\n",
       "1      Berk\n",
       "2     Deniz\n",
       "3       NaN\n",
       "4    Zeynep\n",
       "dtype: object"
      ]
     },
     "execution_count": 6,
     "metadata": {},
     "output_type": "execute_result"
    }
   ],
   "source": [
    "isim.str.capitalize()\n",
    "# ilk harfleri büyütür"
   ]
  },
  {
   "cell_type": "code",
   "execution_count": 7,
   "id": "18ae66e4-9a5c-4be5-a3a2-9ed3ec41e64e",
   "metadata": {},
   "outputs": [
    {
     "data": {
      "text/plain": [
       "0       ali\n",
       "1      berk\n",
       "2     deniz\n",
       "3       NaN\n",
       "4    zeynep\n",
       "dtype: object"
      ]
     },
     "execution_count": 7,
     "metadata": {},
     "output_type": "execute_result"
    }
   ],
   "source": [
    "isim.str.lower()\n",
    "# isimler küçük harflere dönü"
   ]
  },
  {
   "cell_type": "code",
   "execution_count": 8,
   "id": "93ddfa2c-bef0-4e24-8393-b9d22dc3e274",
   "metadata": {},
   "outputs": [
    {
     "data": {
      "text/plain": [
       "0    3.0\n",
       "1    4.0\n",
       "2    5.0\n",
       "3    NaN\n",
       "4    6.0\n",
       "dtype: float64"
      ]
     },
     "execution_count": 8,
     "metadata": {},
     "output_type": "execute_result"
    }
   ],
   "source": [
    "isim.str.len()\n",
    "# her bir isim kaç harf"
   ]
  },
  {
   "cell_type": "code",
   "execution_count": 9,
   "id": "f395b84d-eab8-4594-815e-39b8be91dd64",
   "metadata": {},
   "outputs": [
    {
     "data": {
      "text/html": [
       "<div>\n",
       "<style scoped>\n",
       "    .dataframe tbody tr th:only-of-type {\n",
       "        vertical-align: middle;\n",
       "    }\n",
       "\n",
       "    .dataframe tbody tr th {\n",
       "        vertical-align: top;\n",
       "    }\n",
       "\n",
       "    .dataframe thead th {\n",
       "        text-align: right;\n",
       "    }\n",
       "</style>\n",
       "<table border=\"1\" class=\"dataframe\">\n",
       "  <thead>\n",
       "    <tr style=\"text-align: right;\">\n",
       "      <th></th>\n",
       "      <th>Sutun A</th>\n",
       "      <th>Sutun B</th>\n",
       "    </tr>\n",
       "  </thead>\n",
       "  <tbody>\n",
       "    <tr>\n",
       "      <th>0</th>\n",
       "      <td>-0.856680</td>\n",
       "      <td>0.318133</td>\n",
       "    </tr>\n",
       "    <tr>\n",
       "      <th>1</th>\n",
       "      <td>0.305847</td>\n",
       "      <td>0.208111</td>\n",
       "    </tr>\n",
       "    <tr>\n",
       "      <th>2</th>\n",
       "      <td>1.158156</td>\n",
       "      <td>1.196783</td>\n",
       "    </tr>\n",
       "  </tbody>\n",
       "</table>\n",
       "</div>"
      ],
      "text/plain": [
       "    Sutun A   Sutun B\n",
       "0 -0.856680  0.318133\n",
       "1  0.305847  0.208111\n",
       "2  1.158156  1.196783"
      ]
     },
     "execution_count": 9,
     "metadata": {},
     "output_type": "execute_result"
    }
   ],
   "source": [
    "df=pd.DataFrame(np.random.randn(3,2),\n",
    "                columns=[\"Sutun A\",\"Sutun B\"],\n",
    "                index=range(3))\n",
    "df              "
   ]
  },
  {
   "cell_type": "code",
   "execution_count": 10,
   "id": "0482a79e-6be7-4b53-972c-28eebda6c2f0",
   "metadata": {},
   "outputs": [
    {
     "data": {
      "text/plain": [
       "Index(['Sutun A', 'Sutun B'], dtype='object')"
      ]
     },
     "execution_count": 10,
     "metadata": {},
     "output_type": "execute_result"
    }
   ],
   "source": [
    "df.columns"
   ]
  },
  {
   "cell_type": "code",
   "execution_count": 11,
   "id": "91c66b9f-87bd-492f-a4bb-ec9c673dc8b2",
   "metadata": {},
   "outputs": [
    {
     "data": {
      "text/plain": [
       "Index(['sutun a', 'sutun b'], dtype='object')"
      ]
     },
     "execution_count": 11,
     "metadata": {},
     "output_type": "execute_result"
    }
   ],
   "source": [
    "df.columns.str.lower()"
   ]
  },
  {
   "cell_type": "code",
   "execution_count": 12,
   "id": "65a321e5-5e91-4e82-946e-72ba04d38bdb",
   "metadata": {},
   "outputs": [
    {
     "data": {
      "text/plain": [
       "Index(['_s_u_t_u_n_ _a_', '_s_u_t_u_n_ _b_'], dtype='object')"
      ]
     },
     "execution_count": 12,
     "metadata": {},
     "output_type": "execute_result"
    }
   ],
   "source": [
    "df.columns.str.lower().str.replace(\"\",\"_\")\n",
    "# aradaki boşluk yerine tire koyuyor"
   ]
  },
  {
   "cell_type": "code",
   "execution_count": 13,
   "id": "6a5f323b-247d-4f55-8a02-7a64f73a5d8b",
   "metadata": {},
   "outputs": [
    {
     "data": {
      "text/plain": [
       "0    a_b_c\n",
       "1    c_d_e\n",
       "2      NaN\n",
       "3    f_g_h\n",
       "dtype: object"
      ]
     },
     "execution_count": 13,
     "metadata": {},
     "output_type": "execute_result"
    }
   ],
   "source": [
    "s=pd.Series([\"a_b_c\",\"c_d_e\",np.nan,\"f_g_h\"])\n",
    "s"
   ]
  },
  {
   "cell_type": "code",
   "execution_count": 14,
   "id": "4ea8aef3-1adf-4fd8-9b05-2ab6deabe320",
   "metadata": {},
   "outputs": [
    {
     "data": {
      "text/plain": [
       "0    [a, b, c]\n",
       "1    [c, d, e]\n",
       "2          NaN\n",
       "3    [f, g, h]\n",
       "dtype: object"
      ]
     },
     "execution_count": 14,
     "metadata": {},
     "output_type": "execute_result"
    }
   ],
   "source": [
    "s.str.split(\"_\")\n",
    "# _ göre ayırdık"
   ]
  },
  {
   "cell_type": "code",
   "execution_count": 15,
   "id": "eaaadc5c-1574-469d-83ce-caff8b6dce91",
   "metadata": {},
   "outputs": [
    {
     "data": {
      "text/plain": [
       "0      b\n",
       "1      d\n",
       "2    NaN\n",
       "3      g\n",
       "dtype: object"
      ]
     },
     "execution_count": 15,
     "metadata": {},
     "output_type": "execute_result"
    }
   ],
   "source": [
    "s.str.split(\"_\").str.get(1)\n",
    "# değerlerin birinci indexlerini yazdırdım"
   ]
  },
  {
   "cell_type": "code",
   "execution_count": 16,
   "id": "acd0f1ec-7f52-4fd7-96fc-3a3ccb0304c1",
   "metadata": {},
   "outputs": [
    {
     "data": {
      "text/plain": [
       "0      b\n",
       "1      d\n",
       "2    NaN\n",
       "3      g\n",
       "dtype: object"
      ]
     },
     "execution_count": 16,
     "metadata": {},
     "output_type": "execute_result"
    }
   ],
   "source": [
    "s.str.split(\"_\").str[1]\n",
    "# aynı işlem yukardaki ile"
   ]
  },
  {
   "cell_type": "code",
   "execution_count": 17,
   "id": "5b5bac7e-a0c7-4435-b7e6-8463786b64c9",
   "metadata": {},
   "outputs": [
    {
     "data": {
      "text/html": [
       "<div>\n",
       "<style scoped>\n",
       "    .dataframe tbody tr th:only-of-type {\n",
       "        vertical-align: middle;\n",
       "    }\n",
       "\n",
       "    .dataframe tbody tr th {\n",
       "        vertical-align: top;\n",
       "    }\n",
       "\n",
       "    .dataframe thead th {\n",
       "        text-align: right;\n",
       "    }\n",
       "</style>\n",
       "<table border=\"1\" class=\"dataframe\">\n",
       "  <thead>\n",
       "    <tr style=\"text-align: right;\">\n",
       "      <th></th>\n",
       "      <th>0</th>\n",
       "      <th>1</th>\n",
       "      <th>2</th>\n",
       "    </tr>\n",
       "  </thead>\n",
       "  <tbody>\n",
       "    <tr>\n",
       "      <th>0</th>\n",
       "      <td>a</td>\n",
       "      <td>b</td>\n",
       "      <td>c</td>\n",
       "    </tr>\n",
       "    <tr>\n",
       "      <th>1</th>\n",
       "      <td>c</td>\n",
       "      <td>d</td>\n",
       "      <td>e</td>\n",
       "    </tr>\n",
       "    <tr>\n",
       "      <th>2</th>\n",
       "      <td>NaN</td>\n",
       "      <td>NaN</td>\n",
       "      <td>NaN</td>\n",
       "    </tr>\n",
       "    <tr>\n",
       "      <th>3</th>\n",
       "      <td>f</td>\n",
       "      <td>g</td>\n",
       "      <td>h</td>\n",
       "    </tr>\n",
       "  </tbody>\n",
       "</table>\n",
       "</div>"
      ],
      "text/plain": [
       "     0    1    2\n",
       "0    a    b    c\n",
       "1    c    d    e\n",
       "2  NaN  NaN  NaN\n",
       "3    f    g    h"
      ]
     },
     "execution_count": 17,
     "metadata": {},
     "output_type": "execute_result"
    }
   ],
   "source": [
    "s.str.split(\"_\",expand=True)\n",
    "# veriyi dataframe şekline döndürdük"
   ]
  },
  {
   "cell_type": "code",
   "execution_count": 22,
   "id": "c78489cd-d03e-4350-bb69-0446bcec7a22",
   "metadata": {},
   "outputs": [
    {
     "data": {
      "text/html": [
       "<div>\n",
       "<style scoped>\n",
       "    .dataframe tbody tr th:only-of-type {\n",
       "        vertical-align: middle;\n",
       "    }\n",
       "\n",
       "    .dataframe tbody tr th {\n",
       "        vertical-align: top;\n",
       "    }\n",
       "\n",
       "    .dataframe thead th {\n",
       "        text-align: right;\n",
       "    }\n",
       "</style>\n",
       "<table border=\"1\" class=\"dataframe\">\n",
       "  <thead>\n",
       "    <tr style=\"text-align: right;\">\n",
       "      <th></th>\n",
       "      <th>0</th>\n",
       "      <th>1</th>\n",
       "    </tr>\n",
       "  </thead>\n",
       "  <tbody>\n",
       "    <tr>\n",
       "      <th>0</th>\n",
       "      <td>a</td>\n",
       "      <td>b_c</td>\n",
       "    </tr>\n",
       "    <tr>\n",
       "      <th>1</th>\n",
       "      <td>c</td>\n",
       "      <td>d_e</td>\n",
       "    </tr>\n",
       "    <tr>\n",
       "      <th>2</th>\n",
       "      <td>NaN</td>\n",
       "      <td>NaN</td>\n",
       "    </tr>\n",
       "    <tr>\n",
       "      <th>3</th>\n",
       "      <td>f</td>\n",
       "      <td>g_h</td>\n",
       "    </tr>\n",
       "  </tbody>\n",
       "</table>\n",
       "</div>"
      ],
      "text/plain": [
       "     0    1\n",
       "0    a  b_c\n",
       "1    c  d_e\n",
       "2  NaN  NaN\n",
       "3    f  g_h"
      ]
     },
     "execution_count": 22,
     "metadata": {},
     "output_type": "execute_result"
    }
   ],
   "source": [
    "s.str.split(\"_\",expand=True,n=1)\n",
    "# n=1 parametresi, str.split() yönteminin kaç parçaya böleceğini belirler.\n",
    "# Bu parametre, yalnızca ilk n adet ayırma işlemi gerçekleştirileceğini belirtir.\n",
    "# Yani, eğer n=1 olarak ayarlanırsa, yalnızca ilk alt çizgiyi kullanarak dizi sadece bir kez bölünecektir.\n",
    "# Örneğin, \"abc_def_ghi_jkl_mno\" gibi bir dizeyi \"_\" karakterine göre böldüğümüzü düşünelim.\n",
    "# Eğer n değeri 1 olarak ayarlanmışsa, sadece ilk alt çizgiyi göz önünde bulundurur.\n",
    "# Sonuçta, dize iki parçaya bölünecektir: [\"abc\", \"def_ghi_jkl_mno\"].\n",
    "#Bu parametre, eğer bir dizede birden fazla ayracın bulunduğu durumlarda, sadece belirli bir sayıda bölme yapılmasını sağlamak için kullanışlıdır."
   ]
  },
  {
   "cell_type": "code",
   "execution_count": 23,
   "id": "7e147158-1bbd-44a9-a644-a9e0058c92fb",
   "metadata": {},
   "outputs": [
    {
     "data": {
      "text/plain": [
       "0        15\n",
       "1      -€20\n",
       "2    €30000\n",
       "dtype: object"
      ]
     },
     "execution_count": 23,
     "metadata": {},
     "output_type": "execute_result"
    }
   ],
   "source": [
    "para = pd.Series([\"15\",\"-€20\",\"€30000\"])\n",
    "para"
   ]
  },
  {
   "cell_type": "code",
   "execution_count": 24,
   "id": "3a6f88e8-8a95-4a29-9f79-789cc706d738",
   "metadata": {},
   "outputs": [
    {
     "data": {
      "text/plain": [
       "0       15\n",
       "1      -20\n",
       "2    30000\n",
       "dtype: object"
      ]
     },
     "execution_count": 24,
     "metadata": {},
     "output_type": "execute_result"
    }
   ],
   "source": [
    "para.str.replace(\"€\",\"\")\n",
    "# -€ yazarsak bu kalkmaz onu alttaki gibi yapmalıyız"
   ]
  },
  {
   "cell_type": "code",
   "execution_count": 26,
   "id": "3129e3d0-3883-4b93-8fad-96309bbe6601",
   "metadata": {},
   "outputs": [
    {
     "data": {
      "text/plain": [
       "0        15\n",
       "1        20\n",
       "2    €30000\n",
       "dtype: object"
      ]
     },
     "execution_count": 26,
     "metadata": {},
     "output_type": "execute_result"
    }
   ],
   "source": [
    "para.str.replace(r\"-€\", \"\")"
   ]
  },
  {
   "cell_type": "code",
   "execution_count": 31,
   "id": "20f83dab-d1c6-485f-acce-3393e8ee4959",
   "metadata": {},
   "outputs": [
    {
     "data": {
      "text/html": [
       "<div>\n",
       "<style scoped>\n",
       "    .dataframe tbody tr th:only-of-type {\n",
       "        vertical-align: middle;\n",
       "    }\n",
       "\n",
       "    .dataframe tbody tr th {\n",
       "        vertical-align: top;\n",
       "    }\n",
       "\n",
       "    .dataframe thead th {\n",
       "        text-align: right;\n",
       "    }\n",
       "</style>\n",
       "<table border=\"1\" class=\"dataframe\">\n",
       "  <thead>\n",
       "    <tr style=\"text-align: right;\">\n",
       "      <th></th>\n",
       "      <th>position</th>\n",
       "      <th>const</th>\n",
       "      <th>created</th>\n",
       "      <th>modified</th>\n",
       "      <th>description</th>\n",
       "      <th>Title</th>\n",
       "      <th>Title type</th>\n",
       "      <th>Directors</th>\n",
       "      <th>You rated</th>\n",
       "      <th>IMDb Rating</th>\n",
       "      <th>Runtime (mins)</th>\n",
       "      <th>Year</th>\n",
       "      <th>Genres</th>\n",
       "      <th>Num. Votes</th>\n",
       "      <th>Release Date (month/day/year)</th>\n",
       "      <th>URL</th>\n",
       "    </tr>\n",
       "  </thead>\n",
       "  <tbody>\n",
       "    <tr>\n",
       "      <th>0</th>\n",
       "      <td>1</td>\n",
       "      <td>tt2872718</td>\n",
       "      <td>Sat Dec 31 00:00:00 2016</td>\n",
       "      <td>NaN</td>\n",
       "      <td>NaN</td>\n",
       "      <td>Nightcrawler</td>\n",
       "      <td>Feature Film</td>\n",
       "      <td>Dan Gilroy</td>\n",
       "      <td>8</td>\n",
       "      <td>7.9</td>\n",
       "      <td>117.0</td>\n",
       "      <td>2014</td>\n",
       "      <td>crime, drama, thriller</td>\n",
       "      <td>311885</td>\n",
       "      <td>2014-09-05</td>\n",
       "      <td>http://www.imdb.com/title/tt2872718/</td>\n",
       "    </tr>\n",
       "    <tr>\n",
       "      <th>1</th>\n",
       "      <td>2</td>\n",
       "      <td>tt1260502</td>\n",
       "      <td>Fri Dec 30 00:00:00 2016</td>\n",
       "      <td>NaN</td>\n",
       "      <td>NaN</td>\n",
       "      <td>Ghost in the Shell 2.0</td>\n",
       "      <td>Feature Film</td>\n",
       "      <td>Mamoru Oshii</td>\n",
       "      <td>7</td>\n",
       "      <td>8.0</td>\n",
       "      <td>83.0</td>\n",
       "      <td>2008</td>\n",
       "      <td>animation, action, crime, drama, sci_fi</td>\n",
       "      <td>10196</td>\n",
       "      <td>2008-07-12</td>\n",
       "      <td>http://www.imdb.com/title/tt1260502/</td>\n",
       "    </tr>\n",
       "    <tr>\n",
       "      <th>2</th>\n",
       "      <td>3</td>\n",
       "      <td>tt0944947</td>\n",
       "      <td>Fri Dec 30 00:00:00 2016</td>\n",
       "      <td>NaN</td>\n",
       "      <td>NaN</td>\n",
       "      <td>Game of Thrones</td>\n",
       "      <td>TV Series</td>\n",
       "      <td>NaN</td>\n",
       "      <td>10</td>\n",
       "      <td>9.5</td>\n",
       "      <td>56.0</td>\n",
       "      <td>2011</td>\n",
       "      <td>adventure, drama, fantasy, romance</td>\n",
       "      <td>1095188</td>\n",
       "      <td>2011-04-17</td>\n",
       "      <td>http://www.imdb.com/title/tt0944947/</td>\n",
       "    </tr>\n",
       "    <tr>\n",
       "      <th>3</th>\n",
       "      <td>4</td>\n",
       "      <td>tt0367594</td>\n",
       "      <td>Fri Dec 30 00:00:00 2016</td>\n",
       "      <td>NaN</td>\n",
       "      <td>NaN</td>\n",
       "      <td>Charlie and the Chocolate Factory</td>\n",
       "      <td>Feature Film</td>\n",
       "      <td>Tim Burton</td>\n",
       "      <td>6</td>\n",
       "      <td>6.7</td>\n",
       "      <td>115.0</td>\n",
       "      <td>2005</td>\n",
       "      <td>adventure, comedy, family, fantasy</td>\n",
       "      <td>331238</td>\n",
       "      <td>2005-07-10</td>\n",
       "      <td>http://www.imdb.com/title/tt0367594/</td>\n",
       "    </tr>\n",
       "    <tr>\n",
       "      <th>4</th>\n",
       "      <td>5</td>\n",
       "      <td>tt0317219</td>\n",
       "      <td>Fri Dec 30 00:00:00 2016</td>\n",
       "      <td>NaN</td>\n",
       "      <td>NaN</td>\n",
       "      <td>Cars</td>\n",
       "      <td>Feature Film</td>\n",
       "      <td>John Lasseter, Joe Ranft</td>\n",
       "      <td>7</td>\n",
       "      <td>7.2</td>\n",
       "      <td>117.0</td>\n",
       "      <td>2006</td>\n",
       "      <td>animation, adventure, comedy, family, sport</td>\n",
       "      <td>272829</td>\n",
       "      <td>2006-03-14</td>\n",
       "      <td>http://www.imdb.com/title/tt0317219/</td>\n",
       "    </tr>\n",
       "  </tbody>\n",
       "</table>\n",
       "</div>"
      ],
      "text/plain": [
       "   position      const                   created  modified  description  \\\n",
       "0         1  tt2872718  Sat Dec 31 00:00:00 2016       NaN          NaN   \n",
       "1         2  tt1260502  Fri Dec 30 00:00:00 2016       NaN          NaN   \n",
       "2         3  tt0944947  Fri Dec 30 00:00:00 2016       NaN          NaN   \n",
       "3         4  tt0367594  Fri Dec 30 00:00:00 2016       NaN          NaN   \n",
       "4         5  tt0317219  Fri Dec 30 00:00:00 2016       NaN          NaN   \n",
       "\n",
       "                               Title    Title type                 Directors  \\\n",
       "0                       Nightcrawler  Feature Film                Dan Gilroy   \n",
       "1             Ghost in the Shell 2.0  Feature Film              Mamoru Oshii   \n",
       "2                    Game of Thrones     TV Series                       NaN   \n",
       "3  Charlie and the Chocolate Factory  Feature Film                Tim Burton   \n",
       "4                               Cars  Feature Film  John Lasseter, Joe Ranft   \n",
       "\n",
       "   You rated  IMDb Rating  Runtime (mins)  Year  \\\n",
       "0          8          7.9           117.0  2014   \n",
       "1          7          8.0            83.0  2008   \n",
       "2         10          9.5            56.0  2011   \n",
       "3          6          6.7           115.0  2005   \n",
       "4          7          7.2           117.0  2006   \n",
       "\n",
       "                                        Genres  Num. Votes  \\\n",
       "0                       crime, drama, thriller      311885   \n",
       "1      animation, action, crime, drama, sci_fi       10196   \n",
       "2           adventure, drama, fantasy, romance     1095188   \n",
       "3           adventure, comedy, family, fantasy      331238   \n",
       "4  animation, adventure, comedy, family, sport      272829   \n",
       "\n",
       "  Release Date (month/day/year)                                   URL  \n",
       "0                    2014-09-05  http://www.imdb.com/title/tt2872718/  \n",
       "1                    2008-07-12  http://www.imdb.com/title/tt1260502/  \n",
       "2                    2011-04-17  http://www.imdb.com/title/tt0944947/  \n",
       "3                    2005-07-10  http://www.imdb.com/title/tt0367594/  \n",
       "4                    2006-03-14  http://www.imdb.com/title/tt0317219/  "
      ]
     },
     "execution_count": 31,
     "metadata": {},
     "output_type": "execute_result"
    }
   ],
   "source": [
    "film=pd.read_csv(\"ratings.txt\")\n",
    "film.head()"
   ]
  },
  {
   "cell_type": "code",
   "execution_count": 36,
   "id": "1d9a146c-79bb-496c-929f-01b302507ba0",
   "metadata": {},
   "outputs": [
    {
     "data": {
      "text/plain": [
       "0                           CRIME, DRAMA, THRILLER\n",
       "1          ANIMATION, ACTION, CRIME, DRAMA, SCI_FI\n",
       "2               ADVENTURE, DRAMA, FANTASY, ROMANCE\n",
       "3               ADVENTURE, COMEDY, FAMILY, FANTASY\n",
       "4      ANIMATION, ADVENTURE, COMEDY, FAMILY, SPORT\n",
       "                          ...                     \n",
       "504                                DRAMA, THRILLER\n",
       "505                                         COMEDY\n",
       "506                                     DRAMA, WAR\n",
       "507                       DRAMA, MYSTERY, THRILLER\n",
       "508                             DOCUMENTARY, SPORT\n",
       "Name: Genres, Length: 509, dtype: object"
      ]
     },
     "execution_count": 36,
     "metadata": {},
     "output_type": "execute_result"
    }
   ],
   "source": [
    "film.Genres.str.upper()\n",
    "# film dataframede olan genreslerin harflerini büyüttü"
   ]
  },
  {
   "cell_type": "code",
   "execution_count": 37,
   "id": "7890f4ab-4535-4e41-b0e1-030c9f2d8e45",
   "metadata": {},
   "outputs": [
    {
     "data": {
      "text/plain": [
       "Index(['position', 'const', 'created', 'modified', 'description', 'Title',\n",
       "       'Title type', 'Directors', 'You rated', 'IMDb Rating', 'Runtime (mins)',\n",
       "       'Year', 'Genres', 'Num. Votes', 'Release Date (month/day/year)', 'URL'],\n",
       "      dtype='object')"
      ]
     },
     "execution_count": 37,
     "metadata": {},
     "output_type": "execute_result"
    }
   ],
   "source": [
    "film.columns\n",
    "# filmdeki sutunlar:"
   ]
  },
  {
   "cell_type": "code",
   "execution_count": 46,
   "id": "f60770a5-12f1-4ed1-8294-00157dc25c25",
   "metadata": {},
   "outputs": [],
   "source": [
    "film.columns=film.columns.str.capitalize()\n",
    "# sütunların ilk harflerini büyüttük"
   ]
  },
  {
   "cell_type": "code",
   "execution_count": 45,
   "id": "1572d094-107a-4efd-968b-601c3690c5d1",
   "metadata": {},
   "outputs": [
    {
     "data": {
      "text/html": [
       "<div>\n",
       "<style scoped>\n",
       "    .dataframe tbody tr th:only-of-type {\n",
       "        vertical-align: middle;\n",
       "    }\n",
       "\n",
       "    .dataframe tbody tr th {\n",
       "        vertical-align: top;\n",
       "    }\n",
       "\n",
       "    .dataframe thead th {\n",
       "        text-align: right;\n",
       "    }\n",
       "</style>\n",
       "<table border=\"1\" class=\"dataframe\">\n",
       "  <thead>\n",
       "    <tr style=\"text-align: right;\">\n",
       "      <th></th>\n",
       "      <th>Position</th>\n",
       "      <th>Const</th>\n",
       "      <th>Created</th>\n",
       "      <th>Modified</th>\n",
       "      <th>Description</th>\n",
       "      <th>Title</th>\n",
       "      <th>Title type</th>\n",
       "      <th>Directors</th>\n",
       "      <th>You rated</th>\n",
       "      <th>Imdb rating</th>\n",
       "      <th>Runtime (mins)</th>\n",
       "      <th>Year</th>\n",
       "      <th>Genres</th>\n",
       "      <th>Num. votes</th>\n",
       "      <th>Release date (month/day/year)</th>\n",
       "      <th>Url</th>\n",
       "    </tr>\n",
       "  </thead>\n",
       "  <tbody>\n",
       "    <tr>\n",
       "      <th>0</th>\n",
       "      <td>1</td>\n",
       "      <td>tt2872718</td>\n",
       "      <td>Sat Dec 31 00:00:00 2016</td>\n",
       "      <td>NaN</td>\n",
       "      <td>NaN</td>\n",
       "      <td>Nightcrawler</td>\n",
       "      <td>Feature Film</td>\n",
       "      <td>Dan Gilroy</td>\n",
       "      <td>8</td>\n",
       "      <td>7.9</td>\n",
       "      <td>117.0</td>\n",
       "      <td>2014</td>\n",
       "      <td>crime, drama, thriller</td>\n",
       "      <td>311885</td>\n",
       "      <td>2014-09-05</td>\n",
       "      <td>http://www.imdb.com/title/tt2872718/</td>\n",
       "    </tr>\n",
       "    <tr>\n",
       "      <th>1</th>\n",
       "      <td>2</td>\n",
       "      <td>tt1260502</td>\n",
       "      <td>Fri Dec 30 00:00:00 2016</td>\n",
       "      <td>NaN</td>\n",
       "      <td>NaN</td>\n",
       "      <td>Ghost in the Shell 2.0</td>\n",
       "      <td>Feature Film</td>\n",
       "      <td>Mamoru Oshii</td>\n",
       "      <td>7</td>\n",
       "      <td>8.0</td>\n",
       "      <td>83.0</td>\n",
       "      <td>2008</td>\n",
       "      <td>animation, action, crime, drama, sci_fi</td>\n",
       "      <td>10196</td>\n",
       "      <td>2008-07-12</td>\n",
       "      <td>http://www.imdb.com/title/tt1260502/</td>\n",
       "    </tr>\n",
       "    <tr>\n",
       "      <th>2</th>\n",
       "      <td>3</td>\n",
       "      <td>tt0944947</td>\n",
       "      <td>Fri Dec 30 00:00:00 2016</td>\n",
       "      <td>NaN</td>\n",
       "      <td>NaN</td>\n",
       "      <td>Game of Thrones</td>\n",
       "      <td>TV Series</td>\n",
       "      <td>NaN</td>\n",
       "      <td>10</td>\n",
       "      <td>9.5</td>\n",
       "      <td>56.0</td>\n",
       "      <td>2011</td>\n",
       "      <td>adventure, drama, fantasy, romance</td>\n",
       "      <td>1095188</td>\n",
       "      <td>2011-04-17</td>\n",
       "      <td>http://www.imdb.com/title/tt0944947/</td>\n",
       "    </tr>\n",
       "    <tr>\n",
       "      <th>3</th>\n",
       "      <td>4</td>\n",
       "      <td>tt0367594</td>\n",
       "      <td>Fri Dec 30 00:00:00 2016</td>\n",
       "      <td>NaN</td>\n",
       "      <td>NaN</td>\n",
       "      <td>Charlie and the Chocolate Factory</td>\n",
       "      <td>Feature Film</td>\n",
       "      <td>Tim Burton</td>\n",
       "      <td>6</td>\n",
       "      <td>6.7</td>\n",
       "      <td>115.0</td>\n",
       "      <td>2005</td>\n",
       "      <td>adventure, comedy, family, fantasy</td>\n",
       "      <td>331238</td>\n",
       "      <td>2005-07-10</td>\n",
       "      <td>http://www.imdb.com/title/tt0367594/</td>\n",
       "    </tr>\n",
       "    <tr>\n",
       "      <th>4</th>\n",
       "      <td>5</td>\n",
       "      <td>tt0317219</td>\n",
       "      <td>Fri Dec 30 00:00:00 2016</td>\n",
       "      <td>NaN</td>\n",
       "      <td>NaN</td>\n",
       "      <td>Cars</td>\n",
       "      <td>Feature Film</td>\n",
       "      <td>John Lasseter, Joe Ranft</td>\n",
       "      <td>7</td>\n",
       "      <td>7.2</td>\n",
       "      <td>117.0</td>\n",
       "      <td>2006</td>\n",
       "      <td>animation, adventure, comedy, family, sport</td>\n",
       "      <td>272829</td>\n",
       "      <td>2006-03-14</td>\n",
       "      <td>http://www.imdb.com/title/tt0317219/</td>\n",
       "    </tr>\n",
       "  </tbody>\n",
       "</table>\n",
       "</div>"
      ],
      "text/plain": [
       "   Position      Const                   Created  Modified  Description  \\\n",
       "0         1  tt2872718  Sat Dec 31 00:00:00 2016       NaN          NaN   \n",
       "1         2  tt1260502  Fri Dec 30 00:00:00 2016       NaN          NaN   \n",
       "2         3  tt0944947  Fri Dec 30 00:00:00 2016       NaN          NaN   \n",
       "3         4  tt0367594  Fri Dec 30 00:00:00 2016       NaN          NaN   \n",
       "4         5  tt0317219  Fri Dec 30 00:00:00 2016       NaN          NaN   \n",
       "\n",
       "                               Title    Title type                 Directors  \\\n",
       "0                       Nightcrawler  Feature Film                Dan Gilroy   \n",
       "1             Ghost in the Shell 2.0  Feature Film              Mamoru Oshii   \n",
       "2                    Game of Thrones     TV Series                       NaN   \n",
       "3  Charlie and the Chocolate Factory  Feature Film                Tim Burton   \n",
       "4                               Cars  Feature Film  John Lasseter, Joe Ranft   \n",
       "\n",
       "   You rated  Imdb rating  Runtime (mins)  Year  \\\n",
       "0          8          7.9           117.0  2014   \n",
       "1          7          8.0            83.0  2008   \n",
       "2         10          9.5            56.0  2011   \n",
       "3          6          6.7           115.0  2005   \n",
       "4          7          7.2           117.0  2006   \n",
       "\n",
       "                                        Genres  Num. votes  \\\n",
       "0                       crime, drama, thriller      311885   \n",
       "1      animation, action, crime, drama, sci_fi       10196   \n",
       "2           adventure, drama, fantasy, romance     1095188   \n",
       "3           adventure, comedy, family, fantasy      331238   \n",
       "4  animation, adventure, comedy, family, sport      272829   \n",
       "\n",
       "  Release date (month/day/year)                                   Url  \n",
       "0                    2014-09-05  http://www.imdb.com/title/tt2872718/  \n",
       "1                    2008-07-12  http://www.imdb.com/title/tt1260502/  \n",
       "2                    2011-04-17  http://www.imdb.com/title/tt0944947/  \n",
       "3                    2005-07-10  http://www.imdb.com/title/tt0367594/  \n",
       "4                    2006-03-14  http://www.imdb.com/title/tt0317219/  "
      ]
     },
     "execution_count": 45,
     "metadata": {},
     "output_type": "execute_result"
    }
   ],
   "source": [
    "film.head()"
   ]
  },
  {
   "cell_type": "code",
   "execution_count": 49,
   "id": "c9212a75-47a3-4cbb-8f9a-64d4f5d2e53b",
   "metadata": {},
   "outputs": [
    {
     "data": {
      "text/plain": [
       "0      False\n",
       "1      False\n",
       "2        NaN\n",
       "3       True\n",
       "4      False\n",
       "       ...  \n",
       "504    False\n",
       "505    False\n",
       "506    False\n",
       "507    False\n",
       "508    False\n",
       "Name: Directors, Length: 509, dtype: object"
      ]
     },
     "execution_count": 49,
     "metadata": {},
     "output_type": "execute_result"
    }
   ],
   "source": [
    "film.Directors.str.contains(\"Tim Burton\")\n",
    "# Tim Burton varsa true"
   ]
  },
  {
   "cell_type": "code",
   "execution_count": 54,
   "id": "5ad3b74f-5e60-403a-abe7-5be2574af536",
   "metadata": {},
   "outputs": [],
   "source": [
    "film = film.dropna(subset=['Directors'])\n",
    "# directordeki nanları sildik"
   ]
  },
  {
   "cell_type": "code",
   "execution_count": 55,
   "id": "98a7f7be-d015-4591-8601-9d968fddefd6",
   "metadata": {},
   "outputs": [
    {
     "data": {
      "text/html": [
       "<div>\n",
       "<style scoped>\n",
       "    .dataframe tbody tr th:only-of-type {\n",
       "        vertical-align: middle;\n",
       "    }\n",
       "\n",
       "    .dataframe tbody tr th {\n",
       "        vertical-align: top;\n",
       "    }\n",
       "\n",
       "    .dataframe thead th {\n",
       "        text-align: right;\n",
       "    }\n",
       "</style>\n",
       "<table border=\"1\" class=\"dataframe\">\n",
       "  <thead>\n",
       "    <tr style=\"text-align: right;\">\n",
       "      <th></th>\n",
       "      <th>Position</th>\n",
       "      <th>Const</th>\n",
       "      <th>Created</th>\n",
       "      <th>Modified</th>\n",
       "      <th>Description</th>\n",
       "      <th>Title</th>\n",
       "      <th>Title type</th>\n",
       "      <th>Directors</th>\n",
       "      <th>You rated</th>\n",
       "      <th>Imdb rating</th>\n",
       "      <th>Runtime (mins)</th>\n",
       "      <th>Year</th>\n",
       "      <th>Genres</th>\n",
       "      <th>Num. votes</th>\n",
       "      <th>Release date (month/day/year)</th>\n",
       "      <th>Url</th>\n",
       "    </tr>\n",
       "  </thead>\n",
       "  <tbody>\n",
       "    <tr>\n",
       "      <th>3</th>\n",
       "      <td>4</td>\n",
       "      <td>tt0367594</td>\n",
       "      <td>Fri Dec 30 00:00:00 2016</td>\n",
       "      <td>NaN</td>\n",
       "      <td>NaN</td>\n",
       "      <td>Charlie and the Chocolate Factory</td>\n",
       "      <td>Feature Film</td>\n",
       "      <td>Tim Burton</td>\n",
       "      <td>6</td>\n",
       "      <td>6.7</td>\n",
       "      <td>115.0</td>\n",
       "      <td>2005</td>\n",
       "      <td>adventure, comedy, family, fantasy</td>\n",
       "      <td>331238</td>\n",
       "      <td>2005-07-10</td>\n",
       "      <td>http://www.imdb.com/title/tt0367594/</td>\n",
       "    </tr>\n",
       "    <tr>\n",
       "      <th>104</th>\n",
       "      <td>105</td>\n",
       "      <td>tt0319061</td>\n",
       "      <td>Mon Mar 28 00:00:00 2016</td>\n",
       "      <td>NaN</td>\n",
       "      <td>NaN</td>\n",
       "      <td>Big Fish</td>\n",
       "      <td>Feature Film</td>\n",
       "      <td>Tim Burton</td>\n",
       "      <td>6</td>\n",
       "      <td>8.0</td>\n",
       "      <td>125.0</td>\n",
       "      <td>2003</td>\n",
       "      <td>adventure, drama, fantasy</td>\n",
       "      <td>357318</td>\n",
       "      <td>2003-12-04</td>\n",
       "      <td>http://www.imdb.com/title/tt0319061/</td>\n",
       "    </tr>\n",
       "    <tr>\n",
       "      <th>478</th>\n",
       "      <td>479</td>\n",
       "      <td>tt0162661</td>\n",
       "      <td>Sun Jan  4 00:00:00 2015</td>\n",
       "      <td>NaN</td>\n",
       "      <td>NaN</td>\n",
       "      <td>Sleepy Hollow</td>\n",
       "      <td>Feature Film</td>\n",
       "      <td>Tim Burton</td>\n",
       "      <td>6</td>\n",
       "      <td>7.4</td>\n",
       "      <td>105.0</td>\n",
       "      <td>1999</td>\n",
       "      <td>fantasy, horror, mystery</td>\n",
       "      <td>273671</td>\n",
       "      <td>1999-11-17</td>\n",
       "      <td>http://www.imdb.com/title/tt0162661/</td>\n",
       "    </tr>\n",
       "  </tbody>\n",
       "</table>\n",
       "</div>"
      ],
      "text/plain": [
       "     Position      Const                   Created  Modified  Description  \\\n",
       "3           4  tt0367594  Fri Dec 30 00:00:00 2016       NaN          NaN   \n",
       "104       105  tt0319061  Mon Mar 28 00:00:00 2016       NaN          NaN   \n",
       "478       479  tt0162661  Sun Jan  4 00:00:00 2015       NaN          NaN   \n",
       "\n",
       "                                 Title    Title type   Directors  You rated  \\\n",
       "3    Charlie and the Chocolate Factory  Feature Film  Tim Burton          6   \n",
       "104                           Big Fish  Feature Film  Tim Burton          6   \n",
       "478                      Sleepy Hollow  Feature Film  Tim Burton          6   \n",
       "\n",
       "     Imdb rating  Runtime (mins)  Year                              Genres  \\\n",
       "3            6.7           115.0  2005  adventure, comedy, family, fantasy   \n",
       "104          8.0           125.0  2003           adventure, drama, fantasy   \n",
       "478          7.4           105.0  1999            fantasy, horror, mystery   \n",
       "\n",
       "     Num. votes Release date (month/day/year)  \\\n",
       "3        331238                    2005-07-10   \n",
       "104      357318                    2003-12-04   \n",
       "478      273671                    1999-11-17   \n",
       "\n",
       "                                      Url  \n",
       "3    http://www.imdb.com/title/tt0367594/  \n",
       "104  http://www.imdb.com/title/tt0319061/  \n",
       "478  http://www.imdb.com/title/tt0162661/  "
      ]
     },
     "execution_count": 55,
     "metadata": {},
     "output_type": "execute_result"
    }
   ],
   "source": [
    "film[film.Directors.str.contains(\"Tim Burton\")]\n",
    "# sadece tim burtonun old aldık"
   ]
  },
  {
   "cell_type": "code",
   "execution_count": null,
   "id": "308d91b7-4218-40e6-93a7-af5ae8f24670",
   "metadata": {},
   "outputs": [],
   "source": []
  }
 ],
 "metadata": {
  "kernelspec": {
   "display_name": "Python 3 (ipykernel)",
   "language": "python",
   "name": "python3"
  },
  "language_info": {
   "codemirror_mode": {
    "name": "ipython",
    "version": 3
   },
   "file_extension": ".py",
   "mimetype": "text/x-python",
   "name": "python",
   "nbconvert_exporter": "python",
   "pygments_lexer": "ipython3",
   "version": "3.11.7"
  }
 },
 "nbformat": 4,
 "nbformat_minor": 5
}
