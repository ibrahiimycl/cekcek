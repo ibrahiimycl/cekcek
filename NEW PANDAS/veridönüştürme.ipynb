{
 "cells": [
  {
   "cell_type": "code",
   "execution_count": 1,
   "id": "728b9bb0-30cf-4e80-8fb2-7f3804b4f387",
   "metadata": {},
   "outputs": [],
   "source": [
    "import pandas as pd"
   ]
  },
  {
   "cell_type": "code",
   "execution_count": 3,
   "id": "fc8cd33c-c562-411b-810c-a98bfc265f62",
   "metadata": {},
   "outputs": [
    {
     "data": {
      "text/html": [
       "<div>\n",
       "<style scoped>\n",
       "    .dataframe tbody tr th:only-of-type {\n",
       "        vertical-align: middle;\n",
       "    }\n",
       "\n",
       "    .dataframe tbody tr th {\n",
       "        vertical-align: top;\n",
       "    }\n",
       "\n",
       "    .dataframe thead th {\n",
       "        text-align: right;\n",
       "    }\n",
       "</style>\n",
       "<table border=\"1\" class=\"dataframe\">\n",
       "  <thead>\n",
       "    <tr style=\"text-align: right;\">\n",
       "      <th></th>\n",
       "      <th>a</th>\n",
       "      <th>b</th>\n",
       "    </tr>\n",
       "  </thead>\n",
       "  <tbody>\n",
       "    <tr>\n",
       "      <th>0</th>\n",
       "      <td>bir</td>\n",
       "      <td>1</td>\n",
       "    </tr>\n",
       "    <tr>\n",
       "      <th>1</th>\n",
       "      <td>iki</td>\n",
       "      <td>1</td>\n",
       "    </tr>\n",
       "    <tr>\n",
       "      <th>2</th>\n",
       "      <td>bir</td>\n",
       "      <td>2</td>\n",
       "    </tr>\n",
       "    <tr>\n",
       "      <th>3</th>\n",
       "      <td>iki</td>\n",
       "      <td>3</td>\n",
       "    </tr>\n",
       "    <tr>\n",
       "      <th>4</th>\n",
       "      <td>bir</td>\n",
       "      <td>2</td>\n",
       "    </tr>\n",
       "    <tr>\n",
       "      <th>5</th>\n",
       "      <td>iki</td>\n",
       "      <td>3</td>\n",
       "    </tr>\n",
       "  </tbody>\n",
       "</table>\n",
       "</div>"
      ],
      "text/plain": [
       "     a  b\n",
       "0  bir  1\n",
       "1  iki  1\n",
       "2  bir  2\n",
       "3  iki  3\n",
       "4  bir  2\n",
       "5  iki  3"
      ]
     },
     "execution_count": 3,
     "metadata": {},
     "output_type": "execute_result"
    }
   ],
   "source": [
    "veri = pd.DataFrame({\"a\":[\"bir\",\"iki\"]*3,\"b\":[1,1,2,3,2,3]})\n",
    "veri"
   ]
  },
  {
   "cell_type": "code",
   "execution_count": 4,
   "id": "d9e5348b-e500-4ca5-a68e-1687c1d96ed9",
   "metadata": {},
   "outputs": [
    {
     "data": {
      "text/plain": [
       "0    False\n",
       "1    False\n",
       "2    False\n",
       "3    False\n",
       "4     True\n",
       "5     True\n",
       "dtype: bool"
      ]
     },
     "execution_count": 4,
     "metadata": {},
     "output_type": "execute_result"
    }
   ],
   "source": [
    "veri.duplicated()\n",
    "# tekrar edilenleri true yapar \n",
    "# bir iki false çünkü ilk bu yazıldı tekrar yok\n",
    "# bir iki true çünkü üsttekini tekrar etti"
   ]
  },
  {
   "cell_type": "code",
   "execution_count": 6,
   "id": "caa19da9-18eb-4d2f-a793-9f7f0ee9feaa",
   "metadata": {},
   "outputs": [
    {
     "data": {
      "text/html": [
       "<div>\n",
       "<style scoped>\n",
       "    .dataframe tbody tr th:only-of-type {\n",
       "        vertical-align: middle;\n",
       "    }\n",
       "\n",
       "    .dataframe tbody tr th {\n",
       "        vertical-align: top;\n",
       "    }\n",
       "\n",
       "    .dataframe thead th {\n",
       "        text-align: right;\n",
       "    }\n",
       "</style>\n",
       "<table border=\"1\" class=\"dataframe\">\n",
       "  <thead>\n",
       "    <tr style=\"text-align: right;\">\n",
       "      <th></th>\n",
       "      <th>a</th>\n",
       "      <th>b</th>\n",
       "    </tr>\n",
       "  </thead>\n",
       "  <tbody>\n",
       "    <tr>\n",
       "      <th>0</th>\n",
       "      <td>bir</td>\n",
       "      <td>1</td>\n",
       "    </tr>\n",
       "    <tr>\n",
       "      <th>1</th>\n",
       "      <td>iki</td>\n",
       "      <td>1</td>\n",
       "    </tr>\n",
       "    <tr>\n",
       "      <th>2</th>\n",
       "      <td>bir</td>\n",
       "      <td>2</td>\n",
       "    </tr>\n",
       "    <tr>\n",
       "      <th>3</th>\n",
       "      <td>iki</td>\n",
       "      <td>3</td>\n",
       "    </tr>\n",
       "  </tbody>\n",
       "</table>\n",
       "</div>"
      ],
      "text/plain": [
       "     a  b\n",
       "0  bir  1\n",
       "1  iki  1\n",
       "2  bir  2\n",
       "3  iki  3"
      ]
     },
     "execution_count": 6,
     "metadata": {},
     "output_type": "execute_result"
    }
   ],
   "source": [
    "veri.drop_duplicates()\n",
    "# tekrar eden satırları kaldırır"
   ]
  },
  {
   "cell_type": "code",
   "execution_count": 8,
   "id": "f6bfd856-526d-4204-bfab-7e7b0b29eaee",
   "metadata": {},
   "outputs": [],
   "source": [
    "veri[\"c\"]=range(6)\n",
    "# veriye c sütunu ekledik\n",
    "# bu sütunun satırları da 0 dan 6 ya kadar sayılar"
   ]
  },
  {
   "cell_type": "code",
   "execution_count": 9,
   "id": "03d3a21d-e6ea-4136-ad3b-05365d0ba343",
   "metadata": {},
   "outputs": [
    {
     "data": {
      "text/html": [
       "<div>\n",
       "<style scoped>\n",
       "    .dataframe tbody tr th:only-of-type {\n",
       "        vertical-align: middle;\n",
       "    }\n",
       "\n",
       "    .dataframe tbody tr th {\n",
       "        vertical-align: top;\n",
       "    }\n",
       "\n",
       "    .dataframe thead th {\n",
       "        text-align: right;\n",
       "    }\n",
       "</style>\n",
       "<table border=\"1\" class=\"dataframe\">\n",
       "  <thead>\n",
       "    <tr style=\"text-align: right;\">\n",
       "      <th></th>\n",
       "      <th>a</th>\n",
       "      <th>b</th>\n",
       "      <th>c</th>\n",
       "    </tr>\n",
       "  </thead>\n",
       "  <tbody>\n",
       "    <tr>\n",
       "      <th>0</th>\n",
       "      <td>bir</td>\n",
       "      <td>1</td>\n",
       "      <td>0</td>\n",
       "    </tr>\n",
       "    <tr>\n",
       "      <th>1</th>\n",
       "      <td>iki</td>\n",
       "      <td>1</td>\n",
       "      <td>1</td>\n",
       "    </tr>\n",
       "    <tr>\n",
       "      <th>2</th>\n",
       "      <td>bir</td>\n",
       "      <td>2</td>\n",
       "      <td>2</td>\n",
       "    </tr>\n",
       "    <tr>\n",
       "      <th>3</th>\n",
       "      <td>iki</td>\n",
       "      <td>3</td>\n",
       "      <td>3</td>\n",
       "    </tr>\n",
       "    <tr>\n",
       "      <th>4</th>\n",
       "      <td>bir</td>\n",
       "      <td>2</td>\n",
       "      <td>4</td>\n",
       "    </tr>\n",
       "    <tr>\n",
       "      <th>5</th>\n",
       "      <td>iki</td>\n",
       "      <td>3</td>\n",
       "      <td>5</td>\n",
       "    </tr>\n",
       "  </tbody>\n",
       "</table>\n",
       "</div>"
      ],
      "text/plain": [
       "     a  b  c\n",
       "0  bir  1  0\n",
       "1  iki  1  1\n",
       "2  bir  2  2\n",
       "3  iki  3  3\n",
       "4  bir  2  4\n",
       "5  iki  3  5"
      ]
     },
     "execution_count": 9,
     "metadata": {},
     "output_type": "execute_result"
    }
   ],
   "source": [
    "veri"
   ]
  },
  {
   "cell_type": "code",
   "execution_count": 10,
   "id": "ce010389-02b5-4af1-8569-2abe6fb8a09f",
   "metadata": {},
   "outputs": [
    {
     "data": {
      "text/plain": [
       "0    False\n",
       "1    False\n",
       "2     True\n",
       "3     True\n",
       "4     True\n",
       "5     True\n",
       "dtype: bool"
      ]
     },
     "execution_count": 10,
     "metadata": {},
     "output_type": "execute_result"
    }
   ],
   "source": [
    "veri.duplicated([\"a\"])\n",
    "# sadece a sütunu için tekrar eden var mı bakar"
   ]
  },
  {
   "cell_type": "code",
   "execution_count": 11,
   "id": "005000fe-c9b5-4487-a2f1-bd869c6712f7",
   "metadata": {},
   "outputs": [
    {
     "data": {
      "text/plain": [
       "0    False\n",
       "1    False\n",
       "2    False\n",
       "3    False\n",
       "4     True\n",
       "5     True\n",
       "dtype: bool"
      ]
     },
     "execution_count": 11,
     "metadata": {},
     "output_type": "execute_result"
    }
   ],
   "source": [
    "veri.duplicated([\"a\",\"b\"])\n",
    "# bir iki false\n",
    "# bir bir false\n",
    "# bir iki true\n",
    "# bir bir true\n",
    "# her iki sütunun da aynı olması lazım kesişim gibi düşün "
   ]
  },
  {
   "cell_type": "code",
   "execution_count": 13,
   "id": "98db48e2-887a-4dd9-9b3d-ca997b914ef0",
   "metadata": {},
   "outputs": [
    {
     "data": {
      "text/plain": [
       "0     True\n",
       "1     True\n",
       "2     True\n",
       "3     True\n",
       "4    False\n",
       "5    False\n",
       "dtype: bool"
      ]
     },
     "execution_count": 13,
     "metadata": {},
     "output_type": "execute_result"
    }
   ],
   "source": [
    "veri.duplicated(\"a\",keep = \"last\")\n",
    "# bu sefer alttakilere true değil üsttekilere true dedi\n",
    "# çünkü sondan kontrol etmeye başladı"
   ]
  },
  {
   "cell_type": "code",
   "execution_count": 14,
   "id": "6fb8edcd-cadf-43d6-ab50-4c32bfe21450",
   "metadata": {},
   "outputs": [
    {
     "data": {
      "text/html": [
       "<div>\n",
       "<style scoped>\n",
       "    .dataframe tbody tr th:only-of-type {\n",
       "        vertical-align: middle;\n",
       "    }\n",
       "\n",
       "    .dataframe tbody tr th {\n",
       "        vertical-align: top;\n",
       "    }\n",
       "\n",
       "    .dataframe thead th {\n",
       "        text-align: right;\n",
       "    }\n",
       "</style>\n",
       "<table border=\"1\" class=\"dataframe\">\n",
       "  <thead>\n",
       "    <tr style=\"text-align: right;\">\n",
       "      <th></th>\n",
       "      <th>isim</th>\n",
       "      <th>puan</th>\n",
       "    </tr>\n",
       "  </thead>\n",
       "  <tbody>\n",
       "    <tr>\n",
       "      <th>0</th>\n",
       "      <td>Ali</td>\n",
       "      <td>60</td>\n",
       "    </tr>\n",
       "    <tr>\n",
       "      <th>1</th>\n",
       "      <td>can</td>\n",
       "      <td>50</td>\n",
       "    </tr>\n",
       "    <tr>\n",
       "      <th>2</th>\n",
       "      <td>Nur</td>\n",
       "      <td>70</td>\n",
       "    </tr>\n",
       "    <tr>\n",
       "      <th>3</th>\n",
       "      <td>Efe</td>\n",
       "      <td>80</td>\n",
       "    </tr>\n",
       "    <tr>\n",
       "      <th>4</th>\n",
       "      <td>ata</td>\n",
       "      <td>40</td>\n",
       "    </tr>\n",
       "  </tbody>\n",
       "</table>\n",
       "</div>"
      ],
      "text/plain": [
       "  isim  puan\n",
       "0  Ali    60\n",
       "1  can    50\n",
       "2  Nur    70\n",
       "3  Efe    80\n",
       "4  ata    40"
      ]
     },
     "execution_count": 14,
     "metadata": {},
     "output_type": "execute_result"
    }
   ],
   "source": [
    "vs = pd.DataFrame({\"isim\":[\"Ali\",\"can\",\"Nur\",\"Efe\",\"ata\"],\n",
    "                \"puan\":[60,50,70,80,40]})\n",
    "vs"
   ]
  },
  {
   "cell_type": "code",
   "execution_count": 15,
   "id": "1cd5ae5a-c481-4c46-a328-88151f279753",
   "metadata": {},
   "outputs": [],
   "source": [
    "sinif={\"Ali\":\"A\",\"Can\":\"A\",\"Nur\":\"B\",\"Efe\":\"B\",\"Ata\":\"B\"}"
   ]
  },
  {
   "cell_type": "code",
   "execution_count": 17,
   "id": "493aef9c-f48c-4ce1-9f17-ec12dc679c60",
   "metadata": {},
   "outputs": [],
   "source": [
    "ad=vs[\"isim\"].str.capitalize()\n",
    "# tablodaki isimlerin baş harflerini bğyğk kabul etti"
   ]
  },
  {
   "cell_type": "code",
   "execution_count": 19,
   "id": "34a13fbc-62d9-4db0-aebf-82c7c8eeffb9",
   "metadata": {},
   "outputs": [],
   "source": [
    "vs[\"sube\"]=ad.map(sinif)\n",
    "#  Bu satırda, map() fonksiyonu kullanılarak bir sütun oluşturulmaktadır.\n",
    "# Burada map() fonksiyonu, bir sütunu dönüştürmek veya yeni bir sütun oluşturmak için kullanılır.\n",
    "# Örneğin, ad adında bir Seri veya sütununuz varsa ve bu sütun, öğrenci adlarını içeriyorsa,\n",
    "# sinif adında bir sözlüğünüz varsa ve bu sözlük öğrenci adlarını sınıflara eşleştiriyorsa,\n",
    "# bu kod öğrencilerin sınıflarını içeren yeni bir \"sube\" sütunu oluşturacaktır."
   ]
  },
  {
   "cell_type": "code",
   "execution_count": 20,
   "id": "f7d2cb70-4efc-4264-88d3-401dc59e1e63",
   "metadata": {},
   "outputs": [
    {
     "data": {
      "text/html": [
       "<div>\n",
       "<style scoped>\n",
       "    .dataframe tbody tr th:only-of-type {\n",
       "        vertical-align: middle;\n",
       "    }\n",
       "\n",
       "    .dataframe tbody tr th {\n",
       "        vertical-align: top;\n",
       "    }\n",
       "\n",
       "    .dataframe thead th {\n",
       "        text-align: right;\n",
       "    }\n",
       "</style>\n",
       "<table border=\"1\" class=\"dataframe\">\n",
       "  <thead>\n",
       "    <tr style=\"text-align: right;\">\n",
       "      <th></th>\n",
       "      <th>isim</th>\n",
       "      <th>puan</th>\n",
       "      <th>sube</th>\n",
       "    </tr>\n",
       "  </thead>\n",
       "  <tbody>\n",
       "    <tr>\n",
       "      <th>0</th>\n",
       "      <td>Ali</td>\n",
       "      <td>60</td>\n",
       "      <td>A</td>\n",
       "    </tr>\n",
       "    <tr>\n",
       "      <th>1</th>\n",
       "      <td>can</td>\n",
       "      <td>50</td>\n",
       "      <td>A</td>\n",
       "    </tr>\n",
       "    <tr>\n",
       "      <th>2</th>\n",
       "      <td>Nur</td>\n",
       "      <td>70</td>\n",
       "      <td>B</td>\n",
       "    </tr>\n",
       "    <tr>\n",
       "      <th>3</th>\n",
       "      <td>Efe</td>\n",
       "      <td>80</td>\n",
       "      <td>B</td>\n",
       "    </tr>\n",
       "    <tr>\n",
       "      <th>4</th>\n",
       "      <td>ata</td>\n",
       "      <td>40</td>\n",
       "      <td>B</td>\n",
       "    </tr>\n",
       "  </tbody>\n",
       "</table>\n",
       "</div>"
      ],
      "text/plain": [
       "  isim  puan sube\n",
       "0  Ali    60    A\n",
       "1  can    50    A\n",
       "2  Nur    70    B\n",
       "3  Efe    80    B\n",
       "4  ata    40    B"
      ]
     },
     "execution_count": 20,
     "metadata": {},
     "output_type": "execute_result"
    }
   ],
   "source": [
    "vs"
   ]
  },
  {
   "cell_type": "code",
   "execution_count": 21,
   "id": "95c25aa4-f91f-4939-a130-abf5d74812d1",
   "metadata": {},
   "outputs": [],
   "source": [
    "nt = pd.Series([80,70,90,60])"
   ]
  },
  {
   "cell_type": "code",
   "execution_count": 22,
   "id": "dcd90e13-ccca-4bbd-8631-c09e03133618",
   "metadata": {},
   "outputs": [
    {
     "data": {
      "text/plain": [
       "0    80\n",
       "1    70\n",
       "2    90\n",
       "3    60\n",
       "dtype: int64"
      ]
     },
     "execution_count": 22,
     "metadata": {},
     "output_type": "execute_result"
    }
   ],
   "source": [
    "nt"
   ]
  },
  {
   "cell_type": "code",
   "execution_count": 23,
   "id": "e5d90169-3f56-4e19-80f3-ab7da170ab69",
   "metadata": {},
   "outputs": [],
   "source": [
    "import numpy as np"
   ]
  },
  {
   "cell_type": "code",
   "execution_count": 24,
   "id": "2ae17724-b677-4d2d-9d74-27f2650390af",
   "metadata": {},
   "outputs": [
    {
     "data": {
      "text/plain": [
       "0    80.0\n",
       "1     NaN\n",
       "2    90.0\n",
       "3    60.0\n",
       "dtype: float64"
      ]
     },
     "execution_count": 24,
     "metadata": {},
     "output_type": "execute_result"
    }
   ],
   "source": [
    "nt.replace(70,np.nan)\n",
    "# 70 i eksik veri yaptık"
   ]
  },
  {
   "cell_type": "code",
   "execution_count": 25,
   "id": "400f4ff3-03f2-4b46-a17f-212b3f6e4ceb",
   "metadata": {},
   "outputs": [
    {
     "data": {
      "text/plain": [
       "0    80.0\n",
       "1     NaN\n",
       "2    90.0\n",
       "3     0.0\n",
       "dtype: float64"
      ]
     },
     "execution_count": 25,
     "metadata": {},
     "output_type": "execute_result"
    }
   ],
   "source": [
    "nt.replace([70,60],[np.nan,0])\n",
    "# 60 sıfır 70 eksik veri oldu"
   ]
  },
  {
   "cell_type": "code",
   "execution_count": 26,
   "id": "e22666f7-20b7-45a7-8c98-667d5de7046f",
   "metadata": {},
   "outputs": [
    {
     "data": {
      "text/plain": [
       "0     50\n",
       "1     70\n",
       "2    100\n",
       "3     60\n",
       "dtype: int64"
      ]
     },
     "execution_count": 26,
     "metadata": {},
     "output_type": "execute_result"
    }
   ],
   "source": [
    "nt.replace({90:100,80:50})\n",
    "# 90 100 , 80 50 oldu"
   ]
  },
  {
   "cell_type": "code",
   "execution_count": 37,
   "id": "508e9d1e-3118-42fe-8225-eab13d80e64e",
   "metadata": {},
   "outputs": [
    {
     "data": {
      "text/html": [
       "<div>\n",
       "<style scoped>\n",
       "    .dataframe tbody tr th:only-of-type {\n",
       "        vertical-align: middle;\n",
       "    }\n",
       "\n",
       "    .dataframe tbody tr th {\n",
       "        vertical-align: top;\n",
       "    }\n",
       "\n",
       "    .dataframe thead th {\n",
       "        text-align: right;\n",
       "    }\n",
       "</style>\n",
       "<table border=\"1\" class=\"dataframe\">\n",
       "  <thead>\n",
       "    <tr style=\"text-align: right;\">\n",
       "      <th></th>\n",
       "      <th>ali</th>\n",
       "      <th>efe</th>\n",
       "      <th>eda</th>\n",
       "      <th>can</th>\n",
       "    </tr>\n",
       "  </thead>\n",
       "  <tbody>\n",
       "    <tr>\n",
       "      <th>0</th>\n",
       "      <td>0</td>\n",
       "      <td>1</td>\n",
       "      <td>2</td>\n",
       "      <td>3</td>\n",
       "    </tr>\n",
       "    <tr>\n",
       "      <th>1</th>\n",
       "      <td>4</td>\n",
       "      <td>5</td>\n",
       "      <td>6</td>\n",
       "      <td>7</td>\n",
       "    </tr>\n",
       "    <tr>\n",
       "      <th>2</th>\n",
       "      <td>8</td>\n",
       "      <td>9</td>\n",
       "      <td>10</td>\n",
       "      <td>11</td>\n",
       "    </tr>\n",
       "  </tbody>\n",
       "</table>\n",
       "</div>"
      ],
      "text/plain": [
       "   ali  efe  eda  can\n",
       "0    0    1    2    3\n",
       "1    4    5    6    7\n",
       "2    8    9   10   11"
      ]
     },
     "execution_count": 37,
     "metadata": {},
     "output_type": "execute_result"
    }
   ],
   "source": [
    "df = pd.DataFrame(np.arange(12).reshape(3,4),\n",
    "                  index = [0,1,2],\n",
    "                  columns=[\"ali\",\"efe\",\"eda\",\"can\"])\n",
    "df"
   ]
  },
  {
   "cell_type": "code",
   "execution_count": 38,
   "id": "70a65462-810a-4560-85ba-01585f1e3762",
   "metadata": {},
   "outputs": [],
   "source": [
    "s = pd.Series([\"one\",\"two\",\"three\"])\n",
    "df.index=df.index.map(s)\n",
    "# map dönüşüm işlemini gerçekleştirir"
   ]
  },
  {
   "cell_type": "code",
   "execution_count": 39,
   "id": "2d9025e0-1794-4b35-a2fc-41cb3f13f4c1",
   "metadata": {},
   "outputs": [
    {
     "data": {
      "text/html": [
       "<div>\n",
       "<style scoped>\n",
       "    .dataframe tbody tr th:only-of-type {\n",
       "        vertical-align: middle;\n",
       "    }\n",
       "\n",
       "    .dataframe tbody tr th {\n",
       "        vertical-align: top;\n",
       "    }\n",
       "\n",
       "    .dataframe thead th {\n",
       "        text-align: right;\n",
       "    }\n",
       "</style>\n",
       "<table border=\"1\" class=\"dataframe\">\n",
       "  <thead>\n",
       "    <tr style=\"text-align: right;\">\n",
       "      <th></th>\n",
       "      <th>ali</th>\n",
       "      <th>efe</th>\n",
       "      <th>eda</th>\n",
       "      <th>can</th>\n",
       "    </tr>\n",
       "  </thead>\n",
       "  <tbody>\n",
       "    <tr>\n",
       "      <th>one</th>\n",
       "      <td>0</td>\n",
       "      <td>1</td>\n",
       "      <td>2</td>\n",
       "      <td>3</td>\n",
       "    </tr>\n",
       "    <tr>\n",
       "      <th>two</th>\n",
       "      <td>4</td>\n",
       "      <td>5</td>\n",
       "      <td>6</td>\n",
       "      <td>7</td>\n",
       "    </tr>\n",
       "    <tr>\n",
       "      <th>three</th>\n",
       "      <td>8</td>\n",
       "      <td>9</td>\n",
       "      <td>10</td>\n",
       "      <td>11</td>\n",
       "    </tr>\n",
       "  </tbody>\n",
       "</table>\n",
       "</div>"
      ],
      "text/plain": [
       "       ali  efe  eda  can\n",
       "one      0    1    2    3\n",
       "two      4    5    6    7\n",
       "three    8    9   10   11"
      ]
     },
     "execution_count": 39,
     "metadata": {},
     "output_type": "execute_result"
    }
   ],
   "source": [
    "df"
   ]
  },
  {
   "cell_type": "code",
   "execution_count": 40,
   "id": "10f8d480-6677-4539-b9e7-76f34fbbd8d0",
   "metadata": {},
   "outputs": [
    {
     "data": {
      "text/html": [
       "<div>\n",
       "<style scoped>\n",
       "    .dataframe tbody tr th:only-of-type {\n",
       "        vertical-align: middle;\n",
       "    }\n",
       "\n",
       "    .dataframe tbody tr th {\n",
       "        vertical-align: top;\n",
       "    }\n",
       "\n",
       "    .dataframe thead th {\n",
       "        text-align: right;\n",
       "    }\n",
       "</style>\n",
       "<table border=\"1\" class=\"dataframe\">\n",
       "  <thead>\n",
       "    <tr style=\"text-align: right;\">\n",
       "      <th></th>\n",
       "      <th>ALI</th>\n",
       "      <th>EFE</th>\n",
       "      <th>EDA</th>\n",
       "      <th>CAN</th>\n",
       "    </tr>\n",
       "  </thead>\n",
       "  <tbody>\n",
       "    <tr>\n",
       "      <th>One</th>\n",
       "      <td>0</td>\n",
       "      <td>1</td>\n",
       "      <td>2</td>\n",
       "      <td>3</td>\n",
       "    </tr>\n",
       "    <tr>\n",
       "      <th>Two</th>\n",
       "      <td>4</td>\n",
       "      <td>5</td>\n",
       "      <td>6</td>\n",
       "      <td>7</td>\n",
       "    </tr>\n",
       "    <tr>\n",
       "      <th>Three</th>\n",
       "      <td>8</td>\n",
       "      <td>9</td>\n",
       "      <td>10</td>\n",
       "      <td>11</td>\n",
       "    </tr>\n",
       "  </tbody>\n",
       "</table>\n",
       "</div>"
      ],
      "text/plain": [
       "       ALI  EFE  EDA  CAN\n",
       "One      0    1    2    3\n",
       "Two      4    5    6    7\n",
       "Three    8    9   10   11"
      ]
     },
     "execution_count": 40,
     "metadata": {},
     "output_type": "execute_result"
    }
   ],
   "source": [
    "df.rename(index=str.title,columns=str.upper)\n",
    "# rename metodu ile büyüttük"
   ]
  },
  {
   "cell_type": "code",
   "execution_count": 41,
   "id": "a83428ce-8518-4df8-922f-90f268147a54",
   "metadata": {},
   "outputs": [
    {
     "data": {
      "text/html": [
       "<div>\n",
       "<style scoped>\n",
       "    .dataframe tbody tr th:only-of-type {\n",
       "        vertical-align: middle;\n",
       "    }\n",
       "\n",
       "    .dataframe tbody tr th {\n",
       "        vertical-align: top;\n",
       "    }\n",
       "\n",
       "    .dataframe thead th {\n",
       "        text-align: right;\n",
       "    }\n",
       "</style>\n",
       "<table border=\"1\" class=\"dataframe\">\n",
       "  <thead>\n",
       "    <tr style=\"text-align: right;\">\n",
       "      <th></th>\n",
       "      <th>ali</th>\n",
       "      <th>efe</th>\n",
       "      <th>eda</th>\n",
       "      <th>ata</th>\n",
       "    </tr>\n",
       "  </thead>\n",
       "  <tbody>\n",
       "    <tr>\n",
       "      <th>zero</th>\n",
       "      <td>0</td>\n",
       "      <td>1</td>\n",
       "      <td>2</td>\n",
       "      <td>3</td>\n",
       "    </tr>\n",
       "    <tr>\n",
       "      <th>two</th>\n",
       "      <td>4</td>\n",
       "      <td>5</td>\n",
       "      <td>6</td>\n",
       "      <td>7</td>\n",
       "    </tr>\n",
       "    <tr>\n",
       "      <th>three</th>\n",
       "      <td>8</td>\n",
       "      <td>9</td>\n",
       "      <td>10</td>\n",
       "      <td>11</td>\n",
       "    </tr>\n",
       "  </tbody>\n",
       "</table>\n",
       "</div>"
      ],
      "text/plain": [
       "       ali  efe  eda  ata\n",
       "zero     0    1    2    3\n",
       "two      4    5    6    7\n",
       "three    8    9   10   11"
      ]
     },
     "execution_count": 41,
     "metadata": {},
     "output_type": "execute_result"
    }
   ],
   "source": [
    "df.rename(index={\"one\":\"zero\"},columns={\"can\":\"ata\"})\n",
    "# rename metodu ile değiştirdik\n",
    "# ama bunların kalıcı değildir df yazınca tekrar ilk haline döner"
   ]
  },
  {
   "cell_type": "code",
   "execution_count": 42,
   "id": "1b13e4b4-38ea-4089-8b62-8d930bdd7253",
   "metadata": {},
   "outputs": [
    {
     "data": {
      "text/html": [
       "<div>\n",
       "<style scoped>\n",
       "    .dataframe tbody tr th:only-of-type {\n",
       "        vertical-align: middle;\n",
       "    }\n",
       "\n",
       "    .dataframe tbody tr th {\n",
       "        vertical-align: top;\n",
       "    }\n",
       "\n",
       "    .dataframe thead th {\n",
       "        text-align: right;\n",
       "    }\n",
       "</style>\n",
       "<table border=\"1\" class=\"dataframe\">\n",
       "  <thead>\n",
       "    <tr style=\"text-align: right;\">\n",
       "      <th></th>\n",
       "      <th>ali</th>\n",
       "      <th>efe</th>\n",
       "      <th>eda</th>\n",
       "      <th>can</th>\n",
       "    </tr>\n",
       "  </thead>\n",
       "  <tbody>\n",
       "    <tr>\n",
       "      <th>one</th>\n",
       "      <td>0</td>\n",
       "      <td>1</td>\n",
       "      <td>2</td>\n",
       "      <td>3</td>\n",
       "    </tr>\n",
       "    <tr>\n",
       "      <th>two</th>\n",
       "      <td>4</td>\n",
       "      <td>5</td>\n",
       "      <td>6</td>\n",
       "      <td>7</td>\n",
       "    </tr>\n",
       "    <tr>\n",
       "      <th>three</th>\n",
       "      <td>8</td>\n",
       "      <td>9</td>\n",
       "      <td>10</td>\n",
       "      <td>11</td>\n",
       "    </tr>\n",
       "  </tbody>\n",
       "</table>\n",
       "</div>"
      ],
      "text/plain": [
       "       ali  efe  eda  can\n",
       "one      0    1    2    3\n",
       "two      4    5    6    7\n",
       "three    8    9   10   11"
      ]
     },
     "execution_count": 42,
     "metadata": {},
     "output_type": "execute_result"
    }
   ],
   "source": [
    "df"
   ]
  },
  {
   "cell_type": "code",
   "execution_count": 43,
   "id": "b1f236ca-fb33-4af3-ae6a-d872ccd67dcd",
   "metadata": {},
   "outputs": [],
   "source": [
    "df.rename(index={\"one\":\"zero\"},columns={\"can\":\"ata\"},\n",
    "         inplace=True)\n",
    "# inplace = true metodu ile kalıcı hale getirdik"
   ]
  },
  {
   "cell_type": "code",
   "execution_count": 44,
   "id": "68b9a801-1395-413a-b173-c283e7056d87",
   "metadata": {},
   "outputs": [
    {
     "data": {
      "text/html": [
       "<div>\n",
       "<style scoped>\n",
       "    .dataframe tbody tr th:only-of-type {\n",
       "        vertical-align: middle;\n",
       "    }\n",
       "\n",
       "    .dataframe tbody tr th {\n",
       "        vertical-align: top;\n",
       "    }\n",
       "\n",
       "    .dataframe thead th {\n",
       "        text-align: right;\n",
       "    }\n",
       "</style>\n",
       "<table border=\"1\" class=\"dataframe\">\n",
       "  <thead>\n",
       "    <tr style=\"text-align: right;\">\n",
       "      <th></th>\n",
       "      <th>ali</th>\n",
       "      <th>efe</th>\n",
       "      <th>eda</th>\n",
       "      <th>ata</th>\n",
       "    </tr>\n",
       "  </thead>\n",
       "  <tbody>\n",
       "    <tr>\n",
       "      <th>zero</th>\n",
       "      <td>0</td>\n",
       "      <td>1</td>\n",
       "      <td>2</td>\n",
       "      <td>3</td>\n",
       "    </tr>\n",
       "    <tr>\n",
       "      <th>two</th>\n",
       "      <td>4</td>\n",
       "      <td>5</td>\n",
       "      <td>6</td>\n",
       "      <td>7</td>\n",
       "    </tr>\n",
       "    <tr>\n",
       "      <th>three</th>\n",
       "      <td>8</td>\n",
       "      <td>9</td>\n",
       "      <td>10</td>\n",
       "      <td>11</td>\n",
       "    </tr>\n",
       "  </tbody>\n",
       "</table>\n",
       "</div>"
      ],
      "text/plain": [
       "       ali  efe  eda  ata\n",
       "zero     0    1    2    3\n",
       "two      4    5    6    7\n",
       "three    8    9   10   11"
      ]
     },
     "execution_count": 44,
     "metadata": {},
     "output_type": "execute_result"
    }
   ],
   "source": [
    "df"
   ]
  },
  {
   "cell_type": "code",
   "execution_count": 46,
   "id": "f338fa6e-d8ae-43e0-8d93-8edbc6ae149b",
   "metadata": {},
   "outputs": [],
   "source": [
    "nt=[30,40,80,90,60,45,95,75,55,100,65,85]"
   ]
  },
  {
   "cell_type": "code",
   "execution_count": 47,
   "id": "17602023-5ce5-440b-b196-a180bd402e92",
   "metadata": {},
   "outputs": [],
   "source": [
    "aralik=[20,40,60,80,100]"
   ]
  },
  {
   "cell_type": "code",
   "execution_count": 48,
   "id": "ea5f2c97-0b43-4542-b49d-a3749afe0016",
   "metadata": {},
   "outputs": [],
   "source": [
    "puan = pd.cut(nt,aralik)\n",
    "# cut metodu ile nt deki puanları araliktaki araliklara göre ayırdık"
   ]
  },
  {
   "cell_type": "code",
   "execution_count": 49,
   "id": "b1f3ef63-3991-4dbc-8af4-98e9f21b64d5",
   "metadata": {},
   "outputs": [
    {
     "data": {
      "text/plain": [
       "[(20, 40], (20, 40], (60, 80], (80, 100], (40, 60], ..., (60, 80], (40, 60], (80, 100], (60, 80], (80, 100]]\n",
       "Length: 12\n",
       "Categories (4, interval[int64, right]): [(20, 40] < (40, 60] < (60, 80] < (80, 100]]"
      ]
     },
     "execution_count": 49,
     "metadata": {},
     "output_type": "execute_result"
    }
   ],
   "source": [
    "puan"
   ]
  },
  {
   "cell_type": "code",
   "execution_count": 50,
   "id": "8a376b3d-0972-4f3b-a42b-afb9b886494d",
   "metadata": {},
   "outputs": [
    {
     "data": {
      "text/plain": [
       "array([0, 0, 2, 3, 1, 1, 3, 2, 1, 3, 2, 3], dtype=int8)"
      ]
     },
     "execution_count": 50,
     "metadata": {},
     "output_type": "execute_result"
    }
   ],
   "source": [
    "puan.codes\n",
    "# 20-40 aralığına 0 verdi ve puanların denk geldiği aralıkları aşağıdaki gibi gösterdi"
   ]
  },
  {
   "cell_type": "code",
   "execution_count": 51,
   "id": "24c1594e-ccb3-4219-98ce-a8c60e2c81a4",
   "metadata": {},
   "outputs": [
    {
     "data": {
      "text/plain": [
       "IntervalIndex([(20, 40], (40, 60], (60, 80], (80, 100]], dtype='interval[int64, right]')"
      ]
     },
     "execution_count": 51,
     "metadata": {},
     "output_type": "execute_result"
    }
   ],
   "source": [
    "puan.categories\n",
    "# puan kategorilerini gösteriyor"
   ]
  },
  {
   "cell_type": "code",
   "execution_count": 52,
   "id": "a0f12c1a-0815-4dba-b6f6-36b774f9c1eb",
   "metadata": {},
   "outputs": [
    {
     "name": "stderr",
     "output_type": "stream",
     "text": [
      "C:\\Users\\ibrahim\\AppData\\Local\\Temp\\ipykernel_32828\\2710804226.py:1: FutureWarning: pandas.value_counts is deprecated and will be removed in a future version. Use pd.Series(obj).value_counts() instead.\n",
      "  pd.value_counts(puan)\n"
     ]
    },
    {
     "data": {
      "text/plain": [
       "(80, 100]    4\n",
       "(40, 60]     3\n",
       "(60, 80]     3\n",
       "(20, 40]     2\n",
       "Name: count, dtype: int64"
      ]
     },
     "execution_count": 52,
     "metadata": {},
     "output_type": "execute_result"
    }
   ],
   "source": [
    "pd.value_counts(puan)\n",
    "# hangi aralıkta kaç tane veri var bunları göstermekte"
   ]
  },
  {
   "cell_type": "code",
   "execution_count": null,
   "id": "90c769a1-d21c-4c08-a3df-5f46943413c5",
   "metadata": {},
   "outputs": [],
   "source": [
    "# Bu FutureWarning mesajı, pandas.value_counts fonksiyonunun gelecekteki sürümlerde kaldırılacağını\n",
    "# ve yerine pd.Series(obj).value_counts() kullanılması gerektiğini belirtmektedir.\n",
    "# Bu uyarı, kodunuzun gelecekteki pandas sürümlerinde çalışmayabileceğini belirtir."
   ]
  },
  {
   "cell_type": "code",
   "execution_count": 53,
   "id": "334ae030-357f-4ca7-8ac0-fd72e0cfbbee",
   "metadata": {},
   "outputs": [],
   "source": [
    "puan=pd.cut(nt,aralik,right=False)\n",
    "# right=False metodu açık parantezleri köşeli hale getirir"
   ]
  },
  {
   "cell_type": "code",
   "execution_count": 55,
   "id": "902ad5ce-33f0-4cbc-8fc8-c703907fe664",
   "metadata": {},
   "outputs": [
    {
     "data": {
      "text/plain": [
       "[[20, 40), [40, 60), [80, 100), [80, 100), [60, 80), ..., [60.0, 80.0), [40.0, 60.0), NaN, [60.0, 80.0), [80.0, 100.0)]\n",
       "Length: 12\n",
       "Categories (4, interval[int64, left]): [[20, 40) < [40, 60) < [60, 80) < [80, 100)]"
      ]
     },
     "execution_count": 55,
     "metadata": {},
     "output_type": "execute_result"
    }
   ],
   "source": [
    "puan"
   ]
  },
  {
   "cell_type": "code",
   "execution_count": 56,
   "id": "9a8c800c-7a40-4cce-8c8c-4b02312aba1a",
   "metadata": {},
   "outputs": [
    {
     "data": {
      "text/plain": [
       "['düşük', 'düşük', 'yüksek', 'tavan', 'orta', ..., 'yüksek', 'orta', 'tavan', 'yüksek', 'tavan']\n",
       "Length: 12\n",
       "Categories (4, object): ['düşük' < 'orta' < 'yüksek' < 'tavan']"
      ]
     },
     "execution_count": 56,
     "metadata": {},
     "output_type": "execute_result"
    }
   ],
   "source": [
    "isim = [\"düşük\",\"orta\",\"yüksek\",\"tavan\"]\n",
    "pd.cut(nt,aralik,labels=isim)\n",
    "# aralıkları derecelendirdik labels ile"
   ]
  },
  {
   "cell_type": "code",
   "execution_count": 57,
   "id": "36b1f357-ad01-475a-959b-8b3940224711",
   "metadata": {},
   "outputs": [
    {
     "data": {
      "text/plain": [
       "[(29.93, 37.0], (37.0, 44.0], (79.0, 86.0], (86.0, 93.0], (58.0, 65.0], ..., (72.0, 79.0], (51.0, 58.0], (93.0, 100.0], (58.0, 65.0], (79.0, 86.0]]\n",
       "Length: 12\n",
       "Categories (10, interval[float64, right]): [(29.93, 37.0] < (37.0, 44.0] < (44.0, 51.0] < (51.0, 58.0] ... (72.0, 79.0] < (79.0, 86.0] < (86.0, 93.0] < (93.0, 100.0]]"
      ]
     },
     "execution_count": 57,
     "metadata": {},
     "output_type": "execute_result"
    }
   ],
   "source": [
    "pd.cut(nt,10)\n",
    "# 10 aralığa böldük puanlarımıza göre tabiki"
   ]
  },
  {
   "cell_type": "code",
   "execution_count": 58,
   "id": "aadeb61d-9003-4bd9-80a7-10b8817dc5b8",
   "metadata": {},
   "outputs": [],
   "source": [
    "veri=np.random.randn(100)\n",
    "# 100 birimlik veri oluşturdk"
   ]
  },
  {
   "cell_type": "code",
   "execution_count": 59,
   "id": "752f9f82-6891-4481-a813-c176ba1d38a4",
   "metadata": {},
   "outputs": [],
   "source": [
    "x = pd.qcut(veri,4)\n",
    "# qcut ile veriyi çeyrek aralığa böldük"
   ]
  },
  {
   "cell_type": "code",
   "execution_count": 60,
   "id": "012cd3c1-577a-4693-ae8a-34553dc20c02",
   "metadata": {},
   "outputs": [
    {
     "data": {
      "text/plain": [
       "[(0.438, 3.461], (-0.554, -0.221], (-0.554, -0.221], (-0.554, -0.221], (0.438, 3.461], ..., (-0.554, -0.221], (-0.554, -0.221], (0.438, 3.461], (0.438, 3.461], (-0.554, -0.221]]\n",
       "Length: 100\n",
       "Categories (4, interval[float64, right]): [(-2.314, -0.554] < (-0.554, -0.221] < (-0.221, 0.438] < (0.438, 3.461]]"
      ]
     },
     "execution_count": 60,
     "metadata": {},
     "output_type": "execute_result"
    }
   ],
   "source": [
    "x"
   ]
  },
  {
   "cell_type": "code",
   "execution_count": 62,
   "id": "1a7274e8-c4b6-428d-96cc-088d4ab28e51",
   "metadata": {},
   "outputs": [
    {
     "name": "stderr",
     "output_type": "stream",
     "text": [
      "C:\\Users\\ibrahim\\AppData\\Local\\Temp\\ipykernel_32828\\9629735.py:1: FutureWarning: pandas.value_counts is deprecated and will be removed in a future version. Use pd.Series(obj).value_counts() instead.\n",
      "  pd.value_counts(x)\n"
     ]
    },
    {
     "data": {
      "text/plain": [
       "(-2.314, -0.554]    25\n",
       "(-0.554, -0.221]    25\n",
       "(-0.221, 0.438]     25\n",
       "(0.438, 3.461]      25\n",
       "Name: count, dtype: int64"
      ]
     },
     "execution_count": 62,
     "metadata": {},
     "output_type": "execute_result"
    }
   ],
   "source": [
    "pd.value_counts(x)"
   ]
  },
  {
   "cell_type": "code",
   "execution_count": 63,
   "id": "b7b24977-ba84-40af-b829-511ed76c5667",
   "metadata": {},
   "outputs": [],
   "source": [
    "veri = pd.DataFrame(np.random.randn(1000,4))"
   ]
  },
  {
   "cell_type": "code",
   "execution_count": 64,
   "id": "e6fabbe3-2b5d-45bd-ac5c-82dee5c5dea3",
   "metadata": {},
   "outputs": [
    {
     "data": {
      "text/html": [
       "<div>\n",
       "<style scoped>\n",
       "    .dataframe tbody tr th:only-of-type {\n",
       "        vertical-align: middle;\n",
       "    }\n",
       "\n",
       "    .dataframe tbody tr th {\n",
       "        vertical-align: top;\n",
       "    }\n",
       "\n",
       "    .dataframe thead th {\n",
       "        text-align: right;\n",
       "    }\n",
       "</style>\n",
       "<table border=\"1\" class=\"dataframe\">\n",
       "  <thead>\n",
       "    <tr style=\"text-align: right;\">\n",
       "      <th></th>\n",
       "      <th>0</th>\n",
       "      <th>1</th>\n",
       "      <th>2</th>\n",
       "      <th>3</th>\n",
       "    </tr>\n",
       "  </thead>\n",
       "  <tbody>\n",
       "    <tr>\n",
       "      <th>0</th>\n",
       "      <td>-0.624046</td>\n",
       "      <td>1.050763</td>\n",
       "      <td>0.139462</td>\n",
       "      <td>-0.571542</td>\n",
       "    </tr>\n",
       "    <tr>\n",
       "      <th>1</th>\n",
       "      <td>-0.741324</td>\n",
       "      <td>0.147345</td>\n",
       "      <td>-0.134668</td>\n",
       "      <td>-0.862450</td>\n",
       "    </tr>\n",
       "    <tr>\n",
       "      <th>2</th>\n",
       "      <td>-1.262713</td>\n",
       "      <td>0.466461</td>\n",
       "      <td>-0.565358</td>\n",
       "      <td>-1.425430</td>\n",
       "    </tr>\n",
       "    <tr>\n",
       "      <th>3</th>\n",
       "      <td>-1.581735</td>\n",
       "      <td>1.169169</td>\n",
       "      <td>-0.177858</td>\n",
       "      <td>0.636886</td>\n",
       "    </tr>\n",
       "    <tr>\n",
       "      <th>4</th>\n",
       "      <td>0.605252</td>\n",
       "      <td>0.743487</td>\n",
       "      <td>-0.973309</td>\n",
       "      <td>0.360379</td>\n",
       "    </tr>\n",
       "  </tbody>\n",
       "</table>\n",
       "</div>"
      ],
      "text/plain": [
       "          0         1         2         3\n",
       "0 -0.624046  1.050763  0.139462 -0.571542\n",
       "1 -0.741324  0.147345 -0.134668 -0.862450\n",
       "2 -1.262713  0.466461 -0.565358 -1.425430\n",
       "3 -1.581735  1.169169 -0.177858  0.636886\n",
       "4  0.605252  0.743487 -0.973309  0.360379"
      ]
     },
     "execution_count": 64,
     "metadata": {},
     "output_type": "execute_result"
    }
   ],
   "source": [
    "veri.head()"
   ]
  },
  {
   "cell_type": "code",
   "execution_count": 65,
   "id": "347f915c-311e-4542-ba0d-9d3b78d079c8",
   "metadata": {},
   "outputs": [
    {
     "data": {
      "text/html": [
       "<div>\n",
       "<style scoped>\n",
       "    .dataframe tbody tr th:only-of-type {\n",
       "        vertical-align: middle;\n",
       "    }\n",
       "\n",
       "    .dataframe tbody tr th {\n",
       "        vertical-align: top;\n",
       "    }\n",
       "\n",
       "    .dataframe thead th {\n",
       "        text-align: right;\n",
       "    }\n",
       "</style>\n",
       "<table border=\"1\" class=\"dataframe\">\n",
       "  <thead>\n",
       "    <tr style=\"text-align: right;\">\n",
       "      <th></th>\n",
       "      <th>0</th>\n",
       "      <th>1</th>\n",
       "      <th>2</th>\n",
       "      <th>3</th>\n",
       "    </tr>\n",
       "  </thead>\n",
       "  <tbody>\n",
       "    <tr>\n",
       "      <th>count</th>\n",
       "      <td>1000.000000</td>\n",
       "      <td>1000.000000</td>\n",
       "      <td>1000.000000</td>\n",
       "      <td>1000.000000</td>\n",
       "    </tr>\n",
       "    <tr>\n",
       "      <th>mean</th>\n",
       "      <td>-0.017465</td>\n",
       "      <td>-0.034943</td>\n",
       "      <td>-0.077506</td>\n",
       "      <td>-0.050517</td>\n",
       "    </tr>\n",
       "    <tr>\n",
       "      <th>std</th>\n",
       "      <td>0.975099</td>\n",
       "      <td>0.988319</td>\n",
       "      <td>0.996654</td>\n",
       "      <td>1.013615</td>\n",
       "    </tr>\n",
       "    <tr>\n",
       "      <th>min</th>\n",
       "      <td>-2.856982</td>\n",
       "      <td>-3.448274</td>\n",
       "      <td>-3.195327</td>\n",
       "      <td>-3.136838</td>\n",
       "    </tr>\n",
       "    <tr>\n",
       "      <th>25%</th>\n",
       "      <td>-0.676381</td>\n",
       "      <td>-0.692180</td>\n",
       "      <td>-0.737345</td>\n",
       "      <td>-0.775477</td>\n",
       "    </tr>\n",
       "    <tr>\n",
       "      <th>50%</th>\n",
       "      <td>0.010421</td>\n",
       "      <td>-0.065202</td>\n",
       "      <td>-0.071017</td>\n",
       "      <td>-0.051507</td>\n",
       "    </tr>\n",
       "    <tr>\n",
       "      <th>75%</th>\n",
       "      <td>0.604802</td>\n",
       "      <td>0.607703</td>\n",
       "      <td>0.596503</td>\n",
       "      <td>0.605818</td>\n",
       "    </tr>\n",
       "    <tr>\n",
       "      <th>max</th>\n",
       "      <td>3.435593</td>\n",
       "      <td>3.248040</td>\n",
       "      <td>3.119698</td>\n",
       "      <td>3.192815</td>\n",
       "    </tr>\n",
       "  </tbody>\n",
       "</table>\n",
       "</div>"
      ],
      "text/plain": [
       "                 0            1            2            3\n",
       "count  1000.000000  1000.000000  1000.000000  1000.000000\n",
       "mean     -0.017465    -0.034943    -0.077506    -0.050517\n",
       "std       0.975099     0.988319     0.996654     1.013615\n",
       "min      -2.856982    -3.448274    -3.195327    -3.136838\n",
       "25%      -0.676381    -0.692180    -0.737345    -0.775477\n",
       "50%       0.010421    -0.065202    -0.071017    -0.051507\n",
       "75%       0.604802     0.607703     0.596503     0.605818\n",
       "max       3.435593     3.248040     3.119698     3.192815"
      ]
     },
     "execution_count": 65,
     "metadata": {},
     "output_type": "execute_result"
    }
   ],
   "source": [
    "veri.describe()\n",
    "# sütunların özetleri"
   ]
  },
  {
   "cell_type": "code",
   "execution_count": 66,
   "id": "7629232d-fc92-42db-903b-9130866be603",
   "metadata": {},
   "outputs": [],
   "source": [
    "sutun=veri[1]\n",
    "# verinin 1.sütununu sutun diye aldık sadece orayı çalıştıracağız"
   ]
  },
  {
   "cell_type": "code",
   "execution_count": 67,
   "id": "338a8fae-936b-4818-b9c7-bb4c9af167ec",
   "metadata": {},
   "outputs": [
    {
     "data": {
      "text/plain": [
       "252   -3.448274\n",
       "645    3.248040\n",
       "Name: 1, dtype: float64"
      ]
     },
     "execution_count": 67,
     "metadata": {},
     "output_type": "execute_result"
    }
   ],
   "source": [
    "sutun[np.abs(sutun)>3]\n",
    "# abs özel mutlak değer matematikde\n",
    "# mutlak değeri > 3 olanların sayısını yazdır dedik"
   ]
  },
  {
   "cell_type": "code",
   "execution_count": 71,
   "id": "19ef54cb-8f91-4b69-bbdb-003d026bfe38",
   "metadata": {},
   "outputs": [
    {
     "data": {
      "text/html": [
       "<div>\n",
       "<style scoped>\n",
       "    .dataframe tbody tr th:only-of-type {\n",
       "        vertical-align: middle;\n",
       "    }\n",
       "\n",
       "    .dataframe tbody tr th {\n",
       "        vertical-align: top;\n",
       "    }\n",
       "\n",
       "    .dataframe thead th {\n",
       "        text-align: right;\n",
       "    }\n",
       "</style>\n",
       "<table border=\"1\" class=\"dataframe\">\n",
       "  <thead>\n",
       "    <tr style=\"text-align: right;\">\n",
       "      <th></th>\n",
       "      <th>0</th>\n",
       "      <th>1</th>\n",
       "      <th>2</th>\n",
       "      <th>3</th>\n",
       "    </tr>\n",
       "  </thead>\n",
       "  <tbody>\n",
       "    <tr>\n",
       "      <th>162</th>\n",
       "      <td>-1.392680</td>\n",
       "      <td>-1.163059</td>\n",
       "      <td>-0.840694</td>\n",
       "      <td>3.068318</td>\n",
       "    </tr>\n",
       "    <tr>\n",
       "      <th>216</th>\n",
       "      <td>0.387263</td>\n",
       "      <td>-1.831919</td>\n",
       "      <td>-0.160231</td>\n",
       "      <td>-3.136838</td>\n",
       "    </tr>\n",
       "    <tr>\n",
       "      <th>252</th>\n",
       "      <td>-0.307301</td>\n",
       "      <td>-3.448274</td>\n",
       "      <td>-0.311119</td>\n",
       "      <td>-0.252325</td>\n",
       "    </tr>\n",
       "    <tr>\n",
       "      <th>514</th>\n",
       "      <td>-1.378906</td>\n",
       "      <td>-0.343923</td>\n",
       "      <td>-3.195327</td>\n",
       "      <td>0.370757</td>\n",
       "    </tr>\n",
       "    <tr>\n",
       "      <th>645</th>\n",
       "      <td>1.953436</td>\n",
       "      <td>3.248040</td>\n",
       "      <td>-0.698326</td>\n",
       "      <td>-1.102540</td>\n",
       "    </tr>\n",
       "    <tr>\n",
       "      <th>647</th>\n",
       "      <td>3.435593</td>\n",
       "      <td>-1.315049</td>\n",
       "      <td>0.161687</td>\n",
       "      <td>-0.774935</td>\n",
       "    </tr>\n",
       "    <tr>\n",
       "      <th>703</th>\n",
       "      <td>0.877411</td>\n",
       "      <td>0.139463</td>\n",
       "      <td>3.119698</td>\n",
       "      <td>1.150220</td>\n",
       "    </tr>\n",
       "    <tr>\n",
       "      <th>900</th>\n",
       "      <td>0.245195</td>\n",
       "      <td>-0.419509</td>\n",
       "      <td>-0.653807</td>\n",
       "      <td>3.192815</td>\n",
       "    </tr>\n",
       "  </tbody>\n",
       "</table>\n",
       "</div>"
      ],
      "text/plain": [
       "            0         1         2         3\n",
       "162 -1.392680 -1.163059 -0.840694  3.068318\n",
       "216  0.387263 -1.831919 -0.160231 -3.136838\n",
       "252 -0.307301 -3.448274 -0.311119 -0.252325\n",
       "514 -1.378906 -0.343923 -3.195327  0.370757\n",
       "645  1.953436  3.248040 -0.698326 -1.102540\n",
       "647  3.435593 -1.315049  0.161687 -0.774935\n",
       "703  0.877411  0.139463  3.119698  1.150220\n",
       "900  0.245195 -0.419509 -0.653807  3.192815"
      ]
     },
     "execution_count": 71,
     "metadata": {},
     "output_type": "execute_result"
    }
   ],
   "source": [
    "veri[(np.abs(veri)>3).any(axis=1)]\n",
    "# Bu kod, DataFrame'deki herhangi bir satırda mutlak değeri 3'ten büyük olan bir değere sahip olan satırları seçer"
   ]
  },
  {
   "cell_type": "code",
   "execution_count": 72,
   "id": "fe677244-9c43-4ead-8570-0e5d0dc6884c",
   "metadata": {},
   "outputs": [
    {
     "data": {
      "text/html": [
       "<div>\n",
       "<style scoped>\n",
       "    .dataframe tbody tr th:only-of-type {\n",
       "        vertical-align: middle;\n",
       "    }\n",
       "\n",
       "    .dataframe tbody tr th {\n",
       "        vertical-align: top;\n",
       "    }\n",
       "\n",
       "    .dataframe thead th {\n",
       "        text-align: right;\n",
       "    }\n",
       "</style>\n",
       "<table border=\"1\" class=\"dataframe\">\n",
       "  <thead>\n",
       "    <tr style=\"text-align: right;\">\n",
       "      <th></th>\n",
       "      <th>0</th>\n",
       "      <th>1</th>\n",
       "      <th>2</th>\n",
       "      <th>3</th>\n",
       "    </tr>\n",
       "  </thead>\n",
       "  <tbody>\n",
       "    <tr>\n",
       "      <th>0</th>\n",
       "      <td>-1.0</td>\n",
       "      <td>1.0</td>\n",
       "      <td>1.0</td>\n",
       "      <td>-1.0</td>\n",
       "    </tr>\n",
       "    <tr>\n",
       "      <th>1</th>\n",
       "      <td>-1.0</td>\n",
       "      <td>1.0</td>\n",
       "      <td>-1.0</td>\n",
       "      <td>-1.0</td>\n",
       "    </tr>\n",
       "    <tr>\n",
       "      <th>2</th>\n",
       "      <td>-1.0</td>\n",
       "      <td>1.0</td>\n",
       "      <td>-1.0</td>\n",
       "      <td>-1.0</td>\n",
       "    </tr>\n",
       "    <tr>\n",
       "      <th>3</th>\n",
       "      <td>-1.0</td>\n",
       "      <td>1.0</td>\n",
       "      <td>-1.0</td>\n",
       "      <td>1.0</td>\n",
       "    </tr>\n",
       "    <tr>\n",
       "      <th>4</th>\n",
       "      <td>1.0</td>\n",
       "      <td>1.0</td>\n",
       "      <td>-1.0</td>\n",
       "      <td>1.0</td>\n",
       "    </tr>\n",
       "  </tbody>\n",
       "</table>\n",
       "</div>"
      ],
      "text/plain": [
       "     0    1    2    3\n",
       "0 -1.0  1.0  1.0 -1.0\n",
       "1 -1.0  1.0 -1.0 -1.0\n",
       "2 -1.0  1.0 -1.0 -1.0\n",
       "3 -1.0  1.0 -1.0  1.0\n",
       "4  1.0  1.0 -1.0  1.0"
      ]
     },
     "execution_count": 72,
     "metadata": {},
     "output_type": "execute_result"
    }
   ],
   "source": [
    "np.sign(veri).head()\n",
    "# -1 negatifleri +1 pozitifleri temsil eder"
   ]
  },
  {
   "cell_type": "code",
   "execution_count": 73,
   "id": "cadd036d-5ffa-4b86-9c04-151094e59007",
   "metadata": {},
   "outputs": [
    {
     "data": {
      "text/html": [
       "<div>\n",
       "<style scoped>\n",
       "    .dataframe tbody tr th:only-of-type {\n",
       "        vertical-align: middle;\n",
       "    }\n",
       "\n",
       "    .dataframe tbody tr th {\n",
       "        vertical-align: top;\n",
       "    }\n",
       "\n",
       "    .dataframe thead th {\n",
       "        text-align: right;\n",
       "    }\n",
       "</style>\n",
       "<table border=\"1\" class=\"dataframe\">\n",
       "  <thead>\n",
       "    <tr style=\"text-align: right;\">\n",
       "      <th></th>\n",
       "      <th>0</th>\n",
       "      <th>1</th>\n",
       "      <th>2</th>\n",
       "    </tr>\n",
       "  </thead>\n",
       "  <tbody>\n",
       "    <tr>\n",
       "      <th>0</th>\n",
       "      <td>0</td>\n",
       "      <td>1</td>\n",
       "      <td>2</td>\n",
       "    </tr>\n",
       "    <tr>\n",
       "      <th>1</th>\n",
       "      <td>3</td>\n",
       "      <td>4</td>\n",
       "      <td>5</td>\n",
       "    </tr>\n",
       "    <tr>\n",
       "      <th>2</th>\n",
       "      <td>6</td>\n",
       "      <td>7</td>\n",
       "      <td>8</td>\n",
       "    </tr>\n",
       "    <tr>\n",
       "      <th>3</th>\n",
       "      <td>9</td>\n",
       "      <td>10</td>\n",
       "      <td>11</td>\n",
       "    </tr>\n",
       "  </tbody>\n",
       "</table>\n",
       "</div>"
      ],
      "text/plain": [
       "   0   1   2\n",
       "0  0   1   2\n",
       "1  3   4   5\n",
       "2  6   7   8\n",
       "3  9  10  11"
      ]
     },
     "execution_count": 73,
     "metadata": {},
     "output_type": "execute_result"
    }
   ],
   "source": [
    "veri=pd.DataFrame(np.arange(12).reshape(4,3))\n",
    "veri"
   ]
  },
  {
   "cell_type": "code",
   "execution_count": 74,
   "id": "90b2b0a2-5be9-4d55-96f8-1b7b8036ab96",
   "metadata": {},
   "outputs": [
    {
     "data": {
      "text/plain": [
       "array([1, 0, 3, 2])"
      ]
     },
     "execution_count": 74,
     "metadata": {},
     "output_type": "execute_result"
    }
   ],
   "source": [
    "sira=np.random.permutation(4)\n",
    "sira\n",
    "# permutation metodu random ile entegre olup rastgele 4 e kadar bir dizi oluşturdu"
   ]
  },
  {
   "cell_type": "code",
   "execution_count": 76,
   "id": "062df607-d8b3-4c03-993b-05413b815c68",
   "metadata": {},
   "outputs": [
    {
     "data": {
      "text/html": [
       "<div>\n",
       "<style scoped>\n",
       "    .dataframe tbody tr th:only-of-type {\n",
       "        vertical-align: middle;\n",
       "    }\n",
       "\n",
       "    .dataframe tbody tr th {\n",
       "        vertical-align: top;\n",
       "    }\n",
       "\n",
       "    .dataframe thead th {\n",
       "        text-align: right;\n",
       "    }\n",
       "</style>\n",
       "<table border=\"1\" class=\"dataframe\">\n",
       "  <thead>\n",
       "    <tr style=\"text-align: right;\">\n",
       "      <th></th>\n",
       "      <th>0</th>\n",
       "      <th>1</th>\n",
       "      <th>2</th>\n",
       "    </tr>\n",
       "  </thead>\n",
       "  <tbody>\n",
       "    <tr>\n",
       "      <th>1</th>\n",
       "      <td>3</td>\n",
       "      <td>4</td>\n",
       "      <td>5</td>\n",
       "    </tr>\n",
       "    <tr>\n",
       "      <th>0</th>\n",
       "      <td>0</td>\n",
       "      <td>1</td>\n",
       "      <td>2</td>\n",
       "    </tr>\n",
       "    <tr>\n",
       "      <th>3</th>\n",
       "      <td>9</td>\n",
       "      <td>10</td>\n",
       "      <td>11</td>\n",
       "    </tr>\n",
       "    <tr>\n",
       "      <th>2</th>\n",
       "      <td>6</td>\n",
       "      <td>7</td>\n",
       "      <td>8</td>\n",
       "    </tr>\n",
       "  </tbody>\n",
       "</table>\n",
       "</div>"
      ],
      "text/plain": [
       "   0   1   2\n",
       "1  3   4   5\n",
       "0  0   1   2\n",
       "3  9  10  11\n",
       "2  6   7   8"
      ]
     },
     "execution_count": 76,
     "metadata": {},
     "output_type": "execute_result"
    }
   ],
   "source": [
    "veri.take(sira)\n",
    "# sirayı tabloya rastgele dağıttı tablo düzeni değişti"
   ]
  },
  {
   "cell_type": "code",
   "execution_count": 83,
   "id": "11d4e786-411a-45fd-a1e8-062adfda5c34",
   "metadata": {},
   "outputs": [
    {
     "data": {
      "text/html": [
       "<div>\n",
       "<style scoped>\n",
       "    .dataframe tbody tr th:only-of-type {\n",
       "        vertical-align: middle;\n",
       "    }\n",
       "\n",
       "    .dataframe tbody tr th {\n",
       "        vertical-align: top;\n",
       "    }\n",
       "\n",
       "    .dataframe thead th {\n",
       "        text-align: right;\n",
       "    }\n",
       "</style>\n",
       "<table border=\"1\" class=\"dataframe\">\n",
       "  <thead>\n",
       "    <tr style=\"text-align: right;\">\n",
       "      <th></th>\n",
       "      <th>0</th>\n",
       "      <th>1</th>\n",
       "      <th>2</th>\n",
       "    </tr>\n",
       "  </thead>\n",
       "  <tbody>\n",
       "    <tr>\n",
       "      <th>3</th>\n",
       "      <td>9</td>\n",
       "      <td>10</td>\n",
       "      <td>11</td>\n",
       "    </tr>\n",
       "  </tbody>\n",
       "</table>\n",
       "</div>"
      ],
      "text/plain": [
       "   0   1   2\n",
       "3  9  10  11"
      ]
     },
     "execution_count": 83,
     "metadata": {},
     "output_type": "execute_result"
    }
   ],
   "source": [
    "veri.sample()\n",
    "# rastgele satır seçtik"
   ]
  },
  {
   "cell_type": "code",
   "execution_count": 84,
   "id": "775fc377-99c4-4113-8089-ae90da9b5c06",
   "metadata": {},
   "outputs": [
    {
     "data": {
      "text/html": [
       "<div>\n",
       "<style scoped>\n",
       "    .dataframe tbody tr th:only-of-type {\n",
       "        vertical-align: middle;\n",
       "    }\n",
       "\n",
       "    .dataframe tbody tr th {\n",
       "        vertical-align: top;\n",
       "    }\n",
       "\n",
       "    .dataframe thead th {\n",
       "        text-align: right;\n",
       "    }\n",
       "</style>\n",
       "<table border=\"1\" class=\"dataframe\">\n",
       "  <thead>\n",
       "    <tr style=\"text-align: right;\">\n",
       "      <th></th>\n",
       "      <th>0</th>\n",
       "      <th>1</th>\n",
       "      <th>2</th>\n",
       "    </tr>\n",
       "  </thead>\n",
       "  <tbody>\n",
       "    <tr>\n",
       "      <th>3</th>\n",
       "      <td>9</td>\n",
       "      <td>10</td>\n",
       "      <td>11</td>\n",
       "    </tr>\n",
       "    <tr>\n",
       "      <th>1</th>\n",
       "      <td>3</td>\n",
       "      <td>4</td>\n",
       "      <td>5</td>\n",
       "    </tr>\n",
       "  </tbody>\n",
       "</table>\n",
       "</div>"
      ],
      "text/plain": [
       "   0   1   2\n",
       "3  9  10  11\n",
       "1  3   4   5"
      ]
     },
     "execution_count": 84,
     "metadata": {},
     "output_type": "execute_result"
    }
   ],
   "source": [
    "veri.sample(n=2)\n",
    "# rastgele 2 satır seçilir"
   ]
  },
  {
   "cell_type": "code",
   "execution_count": 85,
   "id": "dfcfce64-008c-41e9-9346-8ca47ad78af6",
   "metadata": {},
   "outputs": [
    {
     "data": {
      "text/html": [
       "<div>\n",
       "<style scoped>\n",
       "    .dataframe tbody tr th:only-of-type {\n",
       "        vertical-align: middle;\n",
       "    }\n",
       "\n",
       "    .dataframe tbody tr th {\n",
       "        vertical-align: top;\n",
       "    }\n",
       "\n",
       "    .dataframe thead th {\n",
       "        text-align: right;\n",
       "    }\n",
       "</style>\n",
       "<table border=\"1\" class=\"dataframe\">\n",
       "  <thead>\n",
       "    <tr style=\"text-align: right;\">\n",
       "      <th></th>\n",
       "      <th>harf</th>\n",
       "      <th>sayi</th>\n",
       "    </tr>\n",
       "  </thead>\n",
       "  <tbody>\n",
       "    <tr>\n",
       "      <th>0</th>\n",
       "      <td>c</td>\n",
       "      <td>0</td>\n",
       "    </tr>\n",
       "    <tr>\n",
       "      <th>1</th>\n",
       "      <td>b</td>\n",
       "      <td>1</td>\n",
       "    </tr>\n",
       "    <tr>\n",
       "      <th>2</th>\n",
       "      <td>a</td>\n",
       "      <td>2</td>\n",
       "    </tr>\n",
       "    <tr>\n",
       "      <th>3</th>\n",
       "      <td>b</td>\n",
       "      <td>3</td>\n",
       "    </tr>\n",
       "    <tr>\n",
       "      <th>4</th>\n",
       "      <td>b</td>\n",
       "      <td>4</td>\n",
       "    </tr>\n",
       "    <tr>\n",
       "      <th>5</th>\n",
       "      <td>a</td>\n",
       "      <td>5</td>\n",
       "    </tr>\n",
       "  </tbody>\n",
       "</table>\n",
       "</div>"
      ],
      "text/plain": [
       "  harf  sayi\n",
       "0    c     0\n",
       "1    b     1\n",
       "2    a     2\n",
       "3    b     3\n",
       "4    b     4\n",
       "5    a     5"
      ]
     },
     "execution_count": 85,
     "metadata": {},
     "output_type": "execute_result"
    }
   ],
   "source": [
    "veri=pd.DataFrame({\"harf\":[\"c\",\"b\",\"a\",\"b\",\"b\",\"a\"],\n",
    "                   \"sayi\":range(6)})\n",
    "veri"
   ]
  },
  {
   "cell_type": "code",
   "execution_count": null,
   "id": "971d3dde-30d6-4949-ac5e-e8741d2ebd6d",
   "metadata": {},
   "outputs": [],
   "source": []
  }
 ],
 "metadata": {
  "kernelspec": {
   "display_name": "Python 3 (ipykernel)",
   "language": "python",
   "name": "python3"
  },
  "language_info": {
   "codemirror_mode": {
    "name": "ipython",
    "version": 3
   },
   "file_extension": ".py",
   "mimetype": "text/x-python",
   "name": "python",
   "nbconvert_exporter": "python",
   "pygments_lexer": "ipython3",
   "version": "3.11.7"
  }
 },
 "nbformat": 4,
 "nbformat_minor": 5
}
