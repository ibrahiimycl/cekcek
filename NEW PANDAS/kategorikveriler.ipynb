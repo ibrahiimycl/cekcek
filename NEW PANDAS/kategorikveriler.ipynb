{
 "cells": [
  {
   "cell_type": "code",
   "execution_count": 3,
   "id": "ae041078-fbe4-42d2-a8bb-b784c9927924",
   "metadata": {},
   "outputs": [],
   "source": [
    "import pandas as pd ; import numpy as np"
   ]
  },
  {
   "cell_type": "code",
   "execution_count": 4,
   "id": "9c0258c6-22f0-4ffc-93e1-229e2ae8d066",
   "metadata": {},
   "outputs": [],
   "source": [
    "veri=pd.Series([\"ali\",\"efe\",\"ali\",\"ali\"]*3)"
   ]
  },
  {
   "cell_type": "code",
   "execution_count": 5,
   "id": "97a9f6ce-ff0f-4f26-881a-ae1dd733e787",
   "metadata": {},
   "outputs": [
    {
     "data": {
      "text/plain": [
       "0     ali\n",
       "1     efe\n",
       "2     ali\n",
       "3     ali\n",
       "4     ali\n",
       "5     efe\n",
       "6     ali\n",
       "7     ali\n",
       "8     ali\n",
       "9     efe\n",
       "10    ali\n",
       "11    ali\n",
       "dtype: object"
      ]
     },
     "execution_count": 5,
     "metadata": {},
     "output_type": "execute_result"
    }
   ],
   "source": [
    "veri"
   ]
  },
  {
   "cell_type": "code",
   "execution_count": 6,
   "id": "a444db97-4383-4cf6-a67a-29f191363a99",
   "metadata": {},
   "outputs": [
    {
     "data": {
      "text/plain": [
       "array(['ali', 'efe'], dtype=object)"
      ]
     },
     "execution_count": 6,
     "metadata": {},
     "output_type": "execute_result"
    }
   ],
   "source": [
    "pd.unique(veri)\n",
    "# tekrar edenleri bir kez görüntüle"
   ]
  },
  {
   "cell_type": "code",
   "execution_count": 7,
   "id": "2871d1bc-6fe4-486f-8587-b7a9a0d4347d",
   "metadata": {},
   "outputs": [
    {
     "name": "stderr",
     "output_type": "stream",
     "text": [
      "C:\\Users\\ibrahim\\AppData\\Local\\Temp\\ipykernel_16292\\3944336502.py:1: FutureWarning: pandas.value_counts is deprecated and will be removed in a future version. Use pd.Series(obj).value_counts() instead.\n",
      "  pd.value_counts(veri)\n"
     ]
    },
    {
     "data": {
      "text/plain": [
       "ali    9\n",
       "efe    3\n",
       "Name: count, dtype: int64"
      ]
     },
     "execution_count": 7,
     "metadata": {},
     "output_type": "execute_result"
    }
   ],
   "source": [
    "pd.value_counts(veri)\n",
    "# tekrar sayısını gösterir"
   ]
  },
  {
   "cell_type": "code",
   "execution_count": 8,
   "id": "80d64779-5393-4421-8dd7-b70ce330485e",
   "metadata": {},
   "outputs": [
    {
     "data": {
      "text/plain": [
       "0     0\n",
       "1     1\n",
       "2     0\n",
       "3     0\n",
       "4     0\n",
       "5     1\n",
       "6     0\n",
       "7     0\n",
       "8     0\n",
       "9     1\n",
       "10    0\n",
       "11    0\n",
       "dtype: int64"
      ]
     },
     "execution_count": 8,
     "metadata": {},
     "output_type": "execute_result"
    }
   ],
   "source": [
    "degerler=pd.Series([0,1,0,0]*3)\n",
    "degerler"
   ]
  },
  {
   "cell_type": "code",
   "execution_count": 9,
   "id": "158ba3b8-2e8c-44f5-b03b-5ed7f40db8ee",
   "metadata": {},
   "outputs": [
    {
     "data": {
      "text/plain": [
       "0    ali\n",
       "1    efe\n",
       "0    ali\n",
       "0    ali\n",
       "0    ali\n",
       "1    efe\n",
       "0    ali\n",
       "0    ali\n",
       "0    ali\n",
       "1    efe\n",
       "0    ali\n",
       "0    ali\n",
       "dtype: object"
      ]
     },
     "execution_count": 9,
     "metadata": {},
     "output_type": "execute_result"
    }
   ],
   "source": [
    "adlar=pd.Series([\"ali\",\"efe\"])\n",
    "adlar.take(degerler)\n",
    "# adlar ile degerleri eşleştirdik\n",
    "# 0 ali 1 efeye eşleniyor"
   ]
  },
  {
   "cell_type": "code",
   "execution_count": 10,
   "id": "0b1f3c23-b9fb-4cf2-a179-da1ce660c1fe",
   "metadata": {},
   "outputs": [],
   "source": [
    "N=len(veri)"
   ]
  },
  {
   "cell_type": "code",
   "execution_count": 11,
   "id": "5504e695-bee6-4cee-9824-2b191857ab5f",
   "metadata": {},
   "outputs": [
    {
     "data": {
      "text/html": [
       "<div>\n",
       "<style scoped>\n",
       "    .dataframe tbody tr th:only-of-type {\n",
       "        vertical-align: middle;\n",
       "    }\n",
       "\n",
       "    .dataframe tbody tr th {\n",
       "        vertical-align: top;\n",
       "    }\n",
       "\n",
       "    .dataframe thead th {\n",
       "        text-align: right;\n",
       "    }\n",
       "</style>\n",
       "<table border=\"1\" class=\"dataframe\">\n",
       "  <thead>\n",
       "    <tr style=\"text-align: right;\">\n",
       "      <th></th>\n",
       "      <th>no</th>\n",
       "      <th>isim</th>\n",
       "      <th>not</th>\n",
       "      <th>kilo</th>\n",
       "    </tr>\n",
       "  </thead>\n",
       "  <tbody>\n",
       "    <tr>\n",
       "      <th>0</th>\n",
       "      <td>0</td>\n",
       "      <td>ali</td>\n",
       "      <td>71</td>\n",
       "      <td>66.288827</td>\n",
       "    </tr>\n",
       "    <tr>\n",
       "      <th>1</th>\n",
       "      <td>1</td>\n",
       "      <td>efe</td>\n",
       "      <td>88</td>\n",
       "      <td>55.253002</td>\n",
       "    </tr>\n",
       "    <tr>\n",
       "      <th>2</th>\n",
       "      <td>2</td>\n",
       "      <td>ali</td>\n",
       "      <td>79</td>\n",
       "      <td>69.980682</td>\n",
       "    </tr>\n",
       "    <tr>\n",
       "      <th>3</th>\n",
       "      <td>3</td>\n",
       "      <td>ali</td>\n",
       "      <td>93</td>\n",
       "      <td>52.445796</td>\n",
       "    </tr>\n",
       "    <tr>\n",
       "      <th>4</th>\n",
       "      <td>4</td>\n",
       "      <td>ali</td>\n",
       "      <td>84</td>\n",
       "      <td>69.060721</td>\n",
       "    </tr>\n",
       "    <tr>\n",
       "      <th>5</th>\n",
       "      <td>5</td>\n",
       "      <td>efe</td>\n",
       "      <td>64</td>\n",
       "      <td>63.159939</td>\n",
       "    </tr>\n",
       "    <tr>\n",
       "      <th>6</th>\n",
       "      <td>6</td>\n",
       "      <td>ali</td>\n",
       "      <td>45</td>\n",
       "      <td>59.491462</td>\n",
       "    </tr>\n",
       "    <tr>\n",
       "      <th>7</th>\n",
       "      <td>7</td>\n",
       "      <td>ali</td>\n",
       "      <td>63</td>\n",
       "      <td>62.920677</td>\n",
       "    </tr>\n",
       "    <tr>\n",
       "      <th>8</th>\n",
       "      <td>8</td>\n",
       "      <td>ali</td>\n",
       "      <td>76</td>\n",
       "      <td>57.881501</td>\n",
       "    </tr>\n",
       "    <tr>\n",
       "      <th>9</th>\n",
       "      <td>9</td>\n",
       "      <td>efe</td>\n",
       "      <td>46</td>\n",
       "      <td>66.952307</td>\n",
       "    </tr>\n",
       "    <tr>\n",
       "      <th>10</th>\n",
       "      <td>10</td>\n",
       "      <td>ali</td>\n",
       "      <td>49</td>\n",
       "      <td>65.244129</td>\n",
       "    </tr>\n",
       "    <tr>\n",
       "      <th>11</th>\n",
       "      <td>11</td>\n",
       "      <td>ali</td>\n",
       "      <td>94</td>\n",
       "      <td>66.303599</td>\n",
       "    </tr>\n",
       "  </tbody>\n",
       "</table>\n",
       "</div>"
      ],
      "text/plain": [
       "    no isim  not       kilo\n",
       "0    0  ali   71  66.288827\n",
       "1    1  efe   88  55.253002\n",
       "2    2  ali   79  69.980682\n",
       "3    3  ali   93  52.445796\n",
       "4    4  ali   84  69.060721\n",
       "5    5  efe   64  63.159939\n",
       "6    6  ali   45  59.491462\n",
       "7    7  ali   63  62.920677\n",
       "8    8  ali   76  57.881501\n",
       "9    9  efe   46  66.952307\n",
       "10  10  ali   49  65.244129\n",
       "11  11  ali   94  66.303599"
      ]
     },
     "execution_count": 11,
     "metadata": {},
     "output_type": "execute_result"
    }
   ],
   "source": [
    "df=pd.DataFrame({\"isim\":veri,\n",
    "                \"no\":np.arange(N),\n",
    "                \"not\":np.random.randint(40,100,size=N),\n",
    "                \"kilo\":np.random.uniform(50,70,size=N)},\n",
    "               columns=[\"no\",\"isim\",\"not\",\"kilo\"])\n",
    "df"
   ]
  },
  {
   "cell_type": "code",
   "execution_count": 12,
   "id": "e694d347-182a-414b-92d6-7c5dae569ae0",
   "metadata": {},
   "outputs": [
    {
     "data": {
      "text/plain": [
       "pandas.core.series.Series"
      ]
     },
     "execution_count": 12,
     "metadata": {},
     "output_type": "execute_result"
    }
   ],
   "source": [
    "type(df[\"isim\"])"
   ]
  },
  {
   "cell_type": "code",
   "execution_count": 13,
   "id": "0b4ca3d8-5ce1-42df-b803-adcba9ef2ba2",
   "metadata": {},
   "outputs": [],
   "source": [
    "isim_kategorisi=df[\"isim\"].astype(\"category\")\n",
    "# tipi değiştirdik "
   ]
  },
  {
   "cell_type": "code",
   "execution_count": 14,
   "id": "f367647b-82cb-40ac-88c4-c0b4aed144f1",
   "metadata": {},
   "outputs": [
    {
     "data": {
      "text/plain": [
       "0     ali\n",
       "1     efe\n",
       "2     ali\n",
       "3     ali\n",
       "4     ali\n",
       "5     efe\n",
       "6     ali\n",
       "7     ali\n",
       "8     ali\n",
       "9     efe\n",
       "10    ali\n",
       "11    ali\n",
       "Name: isim, dtype: category\n",
       "Categories (2, object): ['ali', 'efe']"
      ]
     },
     "execution_count": 14,
     "metadata": {},
     "output_type": "execute_result"
    }
   ],
   "source": [
    "isim_kategorisi"
   ]
  },
  {
   "cell_type": "code",
   "execution_count": 15,
   "id": "8d27ccee-4861-43d3-b142-7611ed05afbe",
   "metadata": {},
   "outputs": [],
   "source": [
    "x = isim_kategorisi.values"
   ]
  },
  {
   "cell_type": "code",
   "execution_count": 16,
   "id": "57c1a5ee-6f6d-4c27-9da5-0a52e673e6b1",
   "metadata": {},
   "outputs": [
    {
     "data": {
      "text/plain": [
       "Index(['ali', 'efe'], dtype='object')"
      ]
     },
     "execution_count": 16,
     "metadata": {},
     "output_type": "execute_result"
    }
   ],
   "source": [
    "x.categories"
   ]
  },
  {
   "cell_type": "code",
   "execution_count": 17,
   "id": "5c15b3d1-e0e4-40b9-b406-67ba1a943812",
   "metadata": {},
   "outputs": [
    {
     "data": {
      "text/plain": [
       "array([0, 1, 0, 0, 0, 1, 0, 0, 0, 1, 0, 0], dtype=int8)"
      ]
     },
     "execution_count": 17,
     "metadata": {},
     "output_type": "execute_result"
    }
   ],
   "source": [
    "x.codes"
   ]
  },
  {
   "cell_type": "code",
   "execution_count": 18,
   "id": "60cdbf3b-9f43-4014-900d-9a7e8e57ed98",
   "metadata": {},
   "outputs": [
    {
     "data": {
      "text/plain": [
       "0     ali\n",
       "1     efe\n",
       "2     ali\n",
       "3     ali\n",
       "4     ali\n",
       "5     efe\n",
       "6     ali\n",
       "7     ali\n",
       "8     ali\n",
       "9     efe\n",
       "10    ali\n",
       "11    ali\n",
       "Name: isim, dtype: object"
      ]
     },
     "execution_count": 18,
     "metadata": {},
     "output_type": "execute_result"
    }
   ],
   "source": [
    "df.isim"
   ]
  },
  {
   "cell_type": "code",
   "execution_count": 20,
   "id": "5b1260f0-f4ac-406e-909a-a7ce2566c50e",
   "metadata": {},
   "outputs": [],
   "source": [
    "veri_kat=pd.Categorical(list(\"abcde\"))"
   ]
  },
  {
   "cell_type": "code",
   "execution_count": 21,
   "id": "dc78fc21-fb1b-4d42-bab5-39087bcd23af",
   "metadata": {},
   "outputs": [
    {
     "data": {
      "text/plain": [
       "['a', 'b', 'c', 'd', 'e']\n",
       "Categories (5, object): ['a', 'b', 'c', 'd', 'e']"
      ]
     },
     "execution_count": 21,
     "metadata": {},
     "output_type": "execute_result"
    }
   ],
   "source": [
    "veri_kat"
   ]
  },
  {
   "cell_type": "code",
   "execution_count": 22,
   "id": "bce08903-947d-4acd-a909-3f38babb3040",
   "metadata": {},
   "outputs": [
    {
     "data": {
      "text/plain": [
       "['muz', 'elma', 'kivi', 'muz', 'elma']"
      ]
     },
     "execution_count": 22,
     "metadata": {},
     "output_type": "execute_result"
    }
   ],
   "source": [
    "[\"muz\",\"elma\",\"kivi\",\"muz\",\"elma\"]"
   ]
  },
  {
   "cell_type": "code",
   "execution_count": 23,
   "id": "507c8c69-e778-4f88-be77-489e314fd6af",
   "metadata": {},
   "outputs": [
    {
     "data": {
      "text/plain": [
       "['muz', 'elma', 'kivi', 'muz', 'elma']\n",
       "Categories (3, object): ['elma', 'kivi', 'muz']"
      ]
     },
     "execution_count": 23,
     "metadata": {},
     "output_type": "execute_result"
    }
   ],
   "source": [
    "pd.Categorical([\"muz\",\"elma\",\"kivi\",\"muz\",\"elma\"])"
   ]
  },
  {
   "cell_type": "code",
   "execution_count": 25,
   "id": "ddd2036a-fcf9-4948-ac39-f139abfcbd01",
   "metadata": {},
   "outputs": [
    {
     "data": {
      "text/plain": [
       "['bebek', 'cocuk', 'genc', 'yasli', 'cocuk', 'bebek', 'bebek']\n",
       "Categories (4, object): ['bebek', 'cocuk', 'genc', 'yasli']"
      ]
     },
     "execution_count": 25,
     "metadata": {},
     "output_type": "execute_result"
    }
   ],
   "source": [
    "insanlar=[\"bebek\",\"cocuk\",\"genc\",\"yasli\"]\n",
    "kodlar=[0,1,2,3,1,0,0]\n",
    "insan_kat=pd.Categorical.from_codes(kodlar,insanlar)\n",
    "insan_kat"
   ]
  },
  {
   "cell_type": "code",
   "execution_count": 27,
   "id": "e4e306af-2952-437a-81fc-2885597c450f",
   "metadata": {},
   "outputs": [
    {
     "data": {
      "text/plain": [
       "['bebek', 'cocuk', 'genc', 'yasli', 'cocuk', 'bebek', 'bebek']\n",
       "Categories (4, object): ['bebek' < 'cocuk' < 'genc' < 'yasli']"
      ]
     },
     "execution_count": 27,
     "metadata": {},
     "output_type": "execute_result"
    }
   ],
   "source": [
    "insan_kat=pd.Categorical.from_codes(kodlar,insanlar,ordered=True)\n",
    "insan_kat\n",
    "# kategorik olarak sıralama"
   ]
  },
  {
   "cell_type": "code",
   "execution_count": 28,
   "id": "99353fd7-a223-4549-be3c-e75903d964f9",
   "metadata": {},
   "outputs": [
    {
     "data": {
      "text/plain": [
       "['bebek', 'cocuk', 'genc', 'yasli', 'cocuk', 'bebek', 'bebek']\n",
       "Categories (4, object): ['bebek' < 'cocuk' < 'genc' < 'yasli']"
      ]
     },
     "execution_count": 28,
     "metadata": {},
     "output_type": "execute_result"
    }
   ],
   "source": [
    "insa_kat.as_ordered()\n",
    "# kategorik olarak sıralama"
   ]
  },
  {
   "cell_type": "code",
   "execution_count": 39,
   "id": "ebb0d8a2-4315-4083-a204-6c17e9a1eac6",
   "metadata": {},
   "outputs": [],
   "source": [
    "data=np.random.randn(1000)"
   ]
  },
  {
   "cell_type": "code",
   "execution_count": 40,
   "id": "31044b60-0573-46a1-9552-a5306b588721",
   "metadata": {},
   "outputs": [
    {
     "data": {
      "text/plain": [
       "[(-0.711, -0.0506], (-0.711, -0.0506], (-3.158, -0.711], (-3.158, -0.711], (-3.158, -0.711], ..., (-3.158, -0.711], (-0.0506, 0.648], (-3.158, -0.711], (-3.158, -0.711], (-3.158, -0.711]]\n",
       "Length: 1000\n",
       "Categories (4, interval[float64, right]): [(-3.158, -0.711] < (-0.711, -0.0506] < (-0.0506, 0.648] < (0.648, 3.205]]"
      ]
     },
     "execution_count": 40,
     "metadata": {},
     "output_type": "execute_result"
    }
   ],
   "source": [
    "ara=pd.qcut(data,4)\n",
    "ara"
   ]
  },
  {
   "cell_type": "code",
   "execution_count": 41,
   "id": "6265a8b9-e763-4f94-bfb0-95d29deb3d48",
   "metadata": {},
   "outputs": [
    {
     "data": {
      "text/plain": [
       "pandas.core.arrays.categorical.Categorical"
      ]
     },
     "execution_count": 41,
     "metadata": {},
     "output_type": "execute_result"
    }
   ],
   "source": [
    "type(ara)"
   ]
  },
  {
   "cell_type": "code",
   "execution_count": 43,
   "id": "e059f8e1-005b-4bf2-9bf4-9375a7a12b44",
   "metadata": {},
   "outputs": [
    {
     "data": {
      "text/plain": [
       "['Q2', 'Q2', 'Q1', 'Q1', 'Q1', ..., 'Q1', 'Q3', 'Q1', 'Q1', 'Q1']\n",
       "Length: 1000\n",
       "Categories (4, object): ['Q1' < 'Q2' < 'Q3' < 'Q4']"
      ]
     },
     "execution_count": 43,
     "metadata": {},
     "output_type": "execute_result"
    }
   ],
   "source": [
    "ara=pd.qcut(data,4,labels=[\"Q1\",\"Q2\",\"Q3\",\"Q4\"])\n",
    "ara"
   ]
  },
  {
   "cell_type": "code",
   "execution_count": 44,
   "id": "f75a428b-6fca-4083-a3db-e64ec142d063",
   "metadata": {},
   "outputs": [],
   "source": [
    "ara=pd.Series(ara,name=\"ceyrek\")"
   ]
  },
  {
   "cell_type": "code",
   "execution_count": 45,
   "id": "bfb240df-6d66-4ce1-9c84-db3420c1ea0c",
   "metadata": {},
   "outputs": [
    {
     "name": "stderr",
     "output_type": "stream",
     "text": [
      "C:\\Users\\ibrahim\\AppData\\Local\\Temp\\ipykernel_16292\\2859504933.py:1: FutureWarning: The default of observed=False is deprecated and will be changed to True in a future version of pandas. Pass observed=False to retain current behavior or observed=True to adopt the future default and silence this warning.\n",
      "  pd.Series(data).groupby(ara).agg([\"count\",\"min\",\"max\"]).reset_index()\n"
     ]
    },
    {
     "data": {
      "text/html": [
       "<div>\n",
       "<style scoped>\n",
       "    .dataframe tbody tr th:only-of-type {\n",
       "        vertical-align: middle;\n",
       "    }\n",
       "\n",
       "    .dataframe tbody tr th {\n",
       "        vertical-align: top;\n",
       "    }\n",
       "\n",
       "    .dataframe thead th {\n",
       "        text-align: right;\n",
       "    }\n",
       "</style>\n",
       "<table border=\"1\" class=\"dataframe\">\n",
       "  <thead>\n",
       "    <tr style=\"text-align: right;\">\n",
       "      <th></th>\n",
       "      <th>ceyrek</th>\n",
       "      <th>count</th>\n",
       "      <th>min</th>\n",
       "      <th>max</th>\n",
       "    </tr>\n",
       "  </thead>\n",
       "  <tbody>\n",
       "    <tr>\n",
       "      <th>0</th>\n",
       "      <td>Q1</td>\n",
       "      <td>250</td>\n",
       "      <td>-3.156544</td>\n",
       "      <td>-0.712151</td>\n",
       "    </tr>\n",
       "    <tr>\n",
       "      <th>1</th>\n",
       "      <td>Q2</td>\n",
       "      <td>250</td>\n",
       "      <td>-0.710503</td>\n",
       "      <td>-0.054790</td>\n",
       "    </tr>\n",
       "    <tr>\n",
       "      <th>2</th>\n",
       "      <td>Q3</td>\n",
       "      <td>250</td>\n",
       "      <td>-0.046503</td>\n",
       "      <td>0.647905</td>\n",
       "    </tr>\n",
       "    <tr>\n",
       "      <th>3</th>\n",
       "      <td>Q4</td>\n",
       "      <td>250</td>\n",
       "      <td>0.648256</td>\n",
       "      <td>3.204566</td>\n",
       "    </tr>\n",
       "  </tbody>\n",
       "</table>\n",
       "</div>"
      ],
      "text/plain": [
       "  ceyrek  count       min       max\n",
       "0     Q1    250 -3.156544 -0.712151\n",
       "1     Q2    250 -0.710503 -0.054790\n",
       "2     Q3    250 -0.046503  0.647905\n",
       "3     Q4    250  0.648256  3.204566"
      ]
     },
     "execution_count": 45,
     "metadata": {},
     "output_type": "execute_result"
    }
   ],
   "source": [
    "pd.Series(data).groupby(ara).agg([\"count\",\"min\",\"max\"]).reset_index()"
   ]
  },
  {
   "cell_type": "code",
   "execution_count": 46,
   "id": "f905de92-805d-4933-9502-d1d19e8a474d",
   "metadata": {},
   "outputs": [],
   "source": [
    "N=10000000\n",
    "say=pd.Series(np.random.randn(N))\n",
    "etiket=pd.Series([\"a\",\"b\",\"c\",\"d\"]*(N//4))\n",
    "kat=etiket.astype(\"category\")"
   ]
  },
  {
   "cell_type": "code",
   "execution_count": 47,
   "id": "739019c3-6236-446c-b5ff-81597f3cdf40",
   "metadata": {},
   "outputs": [
    {
     "data": {
      "text/plain": [
       "80000132"
      ]
     },
     "execution_count": 47,
     "metadata": {},
     "output_type": "execute_result"
    }
   ],
   "source": [
    "etiket.memory_usage()\n",
    "# kullanılan bellek boyutunu bayt cinsinden yazar\n",
    "# 1024 bölersen mb bulursun bu 76 mb"
   ]
  },
  {
   "cell_type": "code",
   "execution_count": 48,
   "id": "ad883885-aeaf-4dd3-9f05-d4b6232ea6b8",
   "metadata": {},
   "outputs": [
    {
     "data": {
      "text/plain": [
       "10000336"
      ]
     },
     "execution_count": 48,
     "metadata": {},
     "output_type": "execute_result"
    }
   ],
   "source": [
    "kat.memory_usage()"
   ]
  },
  {
   "cell_type": "code",
   "execution_count": 49,
   "id": "61644da4-56bd-420d-813f-992f1a090494",
   "metadata": {},
   "outputs": [
    {
     "data": {
      "text/plain": [
       "0    a\n",
       "1    b\n",
       "2    c\n",
       "3    d\n",
       "4    a\n",
       "5    b\n",
       "6    c\n",
       "7    d\n",
       "dtype: category\n",
       "Categories (4, object): ['a', 'b', 'c', 'd']"
      ]
     },
     "execution_count": 49,
     "metadata": {},
     "output_type": "execute_result"
    }
   ],
   "source": [
    "s=pd.Series([\"a\",\"b\",\"c\",\"d\"]*2)\n",
    "s_kat=s.astype(\"category\")\n",
    "# Bu kod, bir Pandas Serisi olan s değişkenini kategorik bir değişkene dönüştürür.\n",
    "# Kategorik değişkenler, belirli bir kategorideki farklı değerleri temsil eden veri türleridir.\n",
    "# Bu dönüşüm, veri üzerinde bazı işlemleri gerçekleştirmek için kullanışlıdır ve bellek kullanımını optimize edebilir\n",
    "s_kat"
   ]
  },
  {
   "cell_type": "code",
   "execution_count": 50,
   "id": "eabc9b2d-f2cc-4ee8-be2f-9a844718f554",
   "metadata": {},
   "outputs": [
    {
     "data": {
      "text/plain": [
       "0    0\n",
       "1    1\n",
       "2    2\n",
       "3    3\n",
       "4    0\n",
       "5    1\n",
       "6    2\n",
       "7    3\n",
       "dtype: int8"
      ]
     },
     "execution_count": 50,
     "metadata": {},
     "output_type": "execute_result"
    }
   ],
   "source": [
    "s_kat.cat.codes"
   ]
  }
 ],
 "metadata": {
  "kernelspec": {
   "display_name": "Python 3 (ipykernel)",
   "language": "python",
   "name": "python3"
  },
  "language_info": {
   "codemirror_mode": {
    "name": "ipython",
    "version": 3
   },
   "file_extension": ".py",
   "mimetype": "text/x-python",
   "name": "python",
   "nbconvert_exporter": "python",
   "pygments_lexer": "ipython3",
   "version": "3.11.7"
  }
 },
 "nbformat": 4,
 "nbformat_minor": 5
}
